{
  "nbformat": 4,
  "nbformat_minor": 0,
  "metadata": {
    "colab": {
      "provenance": [],
      "authorship_tag": "ABX9TyPeiGB2vKvdH8R8T/v0Vej1",
      "include_colab_link": true
    },
    "kernelspec": {
      "name": "python3",
      "display_name": "Python 3"
    },
    "language_info": {
      "name": "python"
    }
  },
  "cells": [
    {
      "cell_type": "markdown",
      "metadata": {
        "id": "view-in-github",
        "colab_type": "text"
      },
      "source": [
        "<a href=\"https://colab.research.google.com/github/Lopesg-Marcia/project3/blob/main/Google_Ads_ML_Class.ipynb\" target=\"_parent\"><img src=\"https://colab.research.google.com/assets/colab-badge.svg\" alt=\"Open In Colab\"/></a>"
      ]
    },
    {
      "cell_type": "code",
      "execution_count": 1,
      "metadata": {
        "id": "n6WuVkO_rm2_"
      },
      "outputs": [],
      "source": [
        "import pandas as pd\n",
        "import seaborn as srn\n",
        "import statistics  as sts\n",
        "import matplotlib.pyplot as plt"
      ]
    },
    {
      "cell_type": "code",
      "source": [
        "url = 'https://docs.google.com/spreadsheets/d/1M89WOPX-krEjzRs7zvjTxZqF9EUuxXW0vjXARdn-e4w/gviz/tq?tqx=out:csv'"
      ],
      "metadata": {
        "id": "dhBYXa4GruKI"
      },
      "execution_count": 2,
      "outputs": []
    },
    {
      "cell_type": "code",
      "source": [
        "dataset = pd.read_csv(url)"
      ],
      "metadata": {
        "id": "mgxph1u-r6Lt"
      },
      "execution_count": 3,
      "outputs": []
    },
    {
      "cell_type": "code",
      "source": [
        "dataset.head()"
      ],
      "metadata": {
        "colab": {
          "base_uri": "https://localhost:8080/",
          "height": 206
        },
        "id": "8s7HlaKGsN-w",
        "outputId": "d34c134c-a414-4f52-e407-e2ca9188e159"
      },
      "execution_count": 4,
      "outputs": [
        {
          "output_type": "execute_result",
          "data": {
            "text/plain": [
              "     Product  Clicks  Impressions    CPC  Conversions  Product Price   IQ\n",
              "0  Product 1   348.0         4045  $1.50           11             49  6.0\n",
              "1  Product 2   271.0         2205  $1.40           16             60  7.0\n",
              "2  Product 3   767.0        10285  $1.12           40             67  7.0\n",
              "3  Product 4   399.0         5555  $1.12           19             56  6.0\n",
              "4  Product 5   537.0         7777  $1.12           28             61  7.0"
            ],
            "text/html": [
              "\n",
              "  <div id=\"df-cfd64f78-b1c6-46a7-83e6-869d5e637368\" class=\"colab-df-container\">\n",
              "    <div>\n",
              "<style scoped>\n",
              "    .dataframe tbody tr th:only-of-type {\n",
              "        vertical-align: middle;\n",
              "    }\n",
              "\n",
              "    .dataframe tbody tr th {\n",
              "        vertical-align: top;\n",
              "    }\n",
              "\n",
              "    .dataframe thead th {\n",
              "        text-align: right;\n",
              "    }\n",
              "</style>\n",
              "<table border=\"1\" class=\"dataframe\">\n",
              "  <thead>\n",
              "    <tr style=\"text-align: right;\">\n",
              "      <th></th>\n",
              "      <th>Product</th>\n",
              "      <th>Clicks</th>\n",
              "      <th>Impressions</th>\n",
              "      <th>CPC</th>\n",
              "      <th>Conversions</th>\n",
              "      <th>Product Price</th>\n",
              "      <th>IQ</th>\n",
              "    </tr>\n",
              "  </thead>\n",
              "  <tbody>\n",
              "    <tr>\n",
              "      <th>0</th>\n",
              "      <td>Product 1</td>\n",
              "      <td>348.0</td>\n",
              "      <td>4045</td>\n",
              "      <td>$1.50</td>\n",
              "      <td>11</td>\n",
              "      <td>49</td>\n",
              "      <td>6.0</td>\n",
              "    </tr>\n",
              "    <tr>\n",
              "      <th>1</th>\n",
              "      <td>Product 2</td>\n",
              "      <td>271.0</td>\n",
              "      <td>2205</td>\n",
              "      <td>$1.40</td>\n",
              "      <td>16</td>\n",
              "      <td>60</td>\n",
              "      <td>7.0</td>\n",
              "    </tr>\n",
              "    <tr>\n",
              "      <th>2</th>\n",
              "      <td>Product 3</td>\n",
              "      <td>767.0</td>\n",
              "      <td>10285</td>\n",
              "      <td>$1.12</td>\n",
              "      <td>40</td>\n",
              "      <td>67</td>\n",
              "      <td>7.0</td>\n",
              "    </tr>\n",
              "    <tr>\n",
              "      <th>3</th>\n",
              "      <td>Product 4</td>\n",
              "      <td>399.0</td>\n",
              "      <td>5555</td>\n",
              "      <td>$1.12</td>\n",
              "      <td>19</td>\n",
              "      <td>56</td>\n",
              "      <td>6.0</td>\n",
              "    </tr>\n",
              "    <tr>\n",
              "      <th>4</th>\n",
              "      <td>Product 5</td>\n",
              "      <td>537.0</td>\n",
              "      <td>7777</td>\n",
              "      <td>$1.12</td>\n",
              "      <td>28</td>\n",
              "      <td>61</td>\n",
              "      <td>7.0</td>\n",
              "    </tr>\n",
              "  </tbody>\n",
              "</table>\n",
              "</div>\n",
              "    <div class=\"colab-df-buttons\">\n",
              "\n",
              "  <div class=\"colab-df-container\">\n",
              "    <button class=\"colab-df-convert\" onclick=\"convertToInteractive('df-cfd64f78-b1c6-46a7-83e6-869d5e637368')\"\n",
              "            title=\"Convert this dataframe to an interactive table.\"\n",
              "            style=\"display:none;\">\n",
              "\n",
              "  <svg xmlns=\"http://www.w3.org/2000/svg\" height=\"24px\" viewBox=\"0 -960 960 960\">\n",
              "    <path d=\"M120-120v-720h720v720H120Zm60-500h600v-160H180v160Zm220 220h160v-160H400v160Zm0 220h160v-160H400v160ZM180-400h160v-160H180v160Zm440 0h160v-160H620v160ZM180-180h160v-160H180v160Zm440 0h160v-160H620v160Z\"/>\n",
              "  </svg>\n",
              "    </button>\n",
              "\n",
              "  <style>\n",
              "    .colab-df-container {\n",
              "      display:flex;\n",
              "      gap: 12px;\n",
              "    }\n",
              "\n",
              "    .colab-df-convert {\n",
              "      background-color: #E8F0FE;\n",
              "      border: none;\n",
              "      border-radius: 50%;\n",
              "      cursor: pointer;\n",
              "      display: none;\n",
              "      fill: #1967D2;\n",
              "      height: 32px;\n",
              "      padding: 0 0 0 0;\n",
              "      width: 32px;\n",
              "    }\n",
              "\n",
              "    .colab-df-convert:hover {\n",
              "      background-color: #E2EBFA;\n",
              "      box-shadow: 0px 1px 2px rgba(60, 64, 67, 0.3), 0px 1px 3px 1px rgba(60, 64, 67, 0.15);\n",
              "      fill: #174EA6;\n",
              "    }\n",
              "\n",
              "    .colab-df-buttons div {\n",
              "      margin-bottom: 4px;\n",
              "    }\n",
              "\n",
              "    [theme=dark] .colab-df-convert {\n",
              "      background-color: #3B4455;\n",
              "      fill: #D2E3FC;\n",
              "    }\n",
              "\n",
              "    [theme=dark] .colab-df-convert:hover {\n",
              "      background-color: #434B5C;\n",
              "      box-shadow: 0px 1px 3px 1px rgba(0, 0, 0, 0.15);\n",
              "      filter: drop-shadow(0px 1px 2px rgba(0, 0, 0, 0.3));\n",
              "      fill: #FFFFFF;\n",
              "    }\n",
              "  </style>\n",
              "\n",
              "    <script>\n",
              "      const buttonEl =\n",
              "        document.querySelector('#df-cfd64f78-b1c6-46a7-83e6-869d5e637368 button.colab-df-convert');\n",
              "      buttonEl.style.display =\n",
              "        google.colab.kernel.accessAllowed ? 'block' : 'none';\n",
              "\n",
              "      async function convertToInteractive(key) {\n",
              "        const element = document.querySelector('#df-cfd64f78-b1c6-46a7-83e6-869d5e637368');\n",
              "        const dataTable =\n",
              "          await google.colab.kernel.invokeFunction('convertToInteractive',\n",
              "                                                    [key], {});\n",
              "        if (!dataTable) return;\n",
              "\n",
              "        const docLinkHtml = 'Like what you see? Visit the ' +\n",
              "          '<a target=\"_blank\" href=https://colab.research.google.com/notebooks/data_table.ipynb>data table notebook</a>'\n",
              "          + ' to learn more about interactive tables.';\n",
              "        element.innerHTML = '';\n",
              "        dataTable['output_type'] = 'display_data';\n",
              "        await google.colab.output.renderOutput(dataTable, element);\n",
              "        const docLink = document.createElement('div');\n",
              "        docLink.innerHTML = docLinkHtml;\n",
              "        element.appendChild(docLink);\n",
              "      }\n",
              "    </script>\n",
              "  </div>\n",
              "\n",
              "\n",
              "<div id=\"df-9b95beac-a444-401c-b460-ddd58fc6b4ec\">\n",
              "  <button class=\"colab-df-quickchart\" onclick=\"quickchart('df-9b95beac-a444-401c-b460-ddd58fc6b4ec')\"\n",
              "            title=\"Suggest charts\"\n",
              "            style=\"display:none;\">\n",
              "\n",
              "<svg xmlns=\"http://www.w3.org/2000/svg\" height=\"24px\"viewBox=\"0 0 24 24\"\n",
              "     width=\"24px\">\n",
              "    <g>\n",
              "        <path d=\"M19 3H5c-1.1 0-2 .9-2 2v14c0 1.1.9 2 2 2h14c1.1 0 2-.9 2-2V5c0-1.1-.9-2-2-2zM9 17H7v-7h2v7zm4 0h-2V7h2v10zm4 0h-2v-4h2v4z\"/>\n",
              "    </g>\n",
              "</svg>\n",
              "  </button>\n",
              "\n",
              "<style>\n",
              "  .colab-df-quickchart {\n",
              "      --bg-color: #E8F0FE;\n",
              "      --fill-color: #1967D2;\n",
              "      --hover-bg-color: #E2EBFA;\n",
              "      --hover-fill-color: #174EA6;\n",
              "      --disabled-fill-color: #AAA;\n",
              "      --disabled-bg-color: #DDD;\n",
              "  }\n",
              "\n",
              "  [theme=dark] .colab-df-quickchart {\n",
              "      --bg-color: #3B4455;\n",
              "      --fill-color: #D2E3FC;\n",
              "      --hover-bg-color: #434B5C;\n",
              "      --hover-fill-color: #FFFFFF;\n",
              "      --disabled-bg-color: #3B4455;\n",
              "      --disabled-fill-color: #666;\n",
              "  }\n",
              "\n",
              "  .colab-df-quickchart {\n",
              "    background-color: var(--bg-color);\n",
              "    border: none;\n",
              "    border-radius: 50%;\n",
              "    cursor: pointer;\n",
              "    display: none;\n",
              "    fill: var(--fill-color);\n",
              "    height: 32px;\n",
              "    padding: 0;\n",
              "    width: 32px;\n",
              "  }\n",
              "\n",
              "  .colab-df-quickchart:hover {\n",
              "    background-color: var(--hover-bg-color);\n",
              "    box-shadow: 0 1px 2px rgba(60, 64, 67, 0.3), 0 1px 3px 1px rgba(60, 64, 67, 0.15);\n",
              "    fill: var(--button-hover-fill-color);\n",
              "  }\n",
              "\n",
              "  .colab-df-quickchart-complete:disabled,\n",
              "  .colab-df-quickchart-complete:disabled:hover {\n",
              "    background-color: var(--disabled-bg-color);\n",
              "    fill: var(--disabled-fill-color);\n",
              "    box-shadow: none;\n",
              "  }\n",
              "\n",
              "  .colab-df-spinner {\n",
              "    border: 2px solid var(--fill-color);\n",
              "    border-color: transparent;\n",
              "    border-bottom-color: var(--fill-color);\n",
              "    animation:\n",
              "      spin 1s steps(1) infinite;\n",
              "  }\n",
              "\n",
              "  @keyframes spin {\n",
              "    0% {\n",
              "      border-color: transparent;\n",
              "      border-bottom-color: var(--fill-color);\n",
              "      border-left-color: var(--fill-color);\n",
              "    }\n",
              "    20% {\n",
              "      border-color: transparent;\n",
              "      border-left-color: var(--fill-color);\n",
              "      border-top-color: var(--fill-color);\n",
              "    }\n",
              "    30% {\n",
              "      border-color: transparent;\n",
              "      border-left-color: var(--fill-color);\n",
              "      border-top-color: var(--fill-color);\n",
              "      border-right-color: var(--fill-color);\n",
              "    }\n",
              "    40% {\n",
              "      border-color: transparent;\n",
              "      border-right-color: var(--fill-color);\n",
              "      border-top-color: var(--fill-color);\n",
              "    }\n",
              "    60% {\n",
              "      border-color: transparent;\n",
              "      border-right-color: var(--fill-color);\n",
              "    }\n",
              "    80% {\n",
              "      border-color: transparent;\n",
              "      border-right-color: var(--fill-color);\n",
              "      border-bottom-color: var(--fill-color);\n",
              "    }\n",
              "    90% {\n",
              "      border-color: transparent;\n",
              "      border-bottom-color: var(--fill-color);\n",
              "    }\n",
              "  }\n",
              "</style>\n",
              "\n",
              "  <script>\n",
              "    async function quickchart(key) {\n",
              "      const quickchartButtonEl =\n",
              "        document.querySelector('#' + key + ' button');\n",
              "      quickchartButtonEl.disabled = true;  // To prevent multiple clicks.\n",
              "      quickchartButtonEl.classList.add('colab-df-spinner');\n",
              "      try {\n",
              "        const charts = await google.colab.kernel.invokeFunction(\n",
              "            'suggestCharts', [key], {});\n",
              "      } catch (error) {\n",
              "        console.error('Error during call to suggestCharts:', error);\n",
              "      }\n",
              "      quickchartButtonEl.classList.remove('colab-df-spinner');\n",
              "      quickchartButtonEl.classList.add('colab-df-quickchart-complete');\n",
              "    }\n",
              "    (() => {\n",
              "      let quickchartButtonEl =\n",
              "        document.querySelector('#df-9b95beac-a444-401c-b460-ddd58fc6b4ec button');\n",
              "      quickchartButtonEl.style.display =\n",
              "        google.colab.kernel.accessAllowed ? 'block' : 'none';\n",
              "    })();\n",
              "  </script>\n",
              "</div>\n",
              "\n",
              "    </div>\n",
              "  </div>\n"
            ],
            "application/vnd.google.colaboratory.intrinsic+json": {
              "type": "dataframe",
              "variable_name": "dataset",
              "summary": "{\n  \"name\": \"dataset\",\n  \"rows\": 500,\n  \"fields\": [\n    {\n      \"column\": \"Product\",\n      \"properties\": {\n        \"dtype\": \"string\",\n        \"num_unique_values\": 500,\n        \"samples\": [\n          \"Product 362\",\n          \"Product 74\",\n          \"Product 375\"\n        ],\n        \"semantic_type\": \"\",\n        \"description\": \"\"\n      }\n    },\n    {\n      \"column\": \"Clicks\",\n      \"properties\": {\n        \"dtype\": \"number\",\n        \"std\": 233.81652830391891,\n        \"min\": 202.0,\n        \"max\": 1000.0,\n        \"num_unique_values\": 368,\n        \"samples\": [\n          551.0,\n          668.0,\n          250.0\n        ],\n        \"semantic_type\": \"\",\n        \"description\": \"\"\n      }\n    },\n    {\n      \"column\": \"Impressions\",\n      \"properties\": {\n        \"dtype\": \"number\",\n        \"std\": 3655,\n        \"min\": 2004,\n        \"max\": 18411,\n        \"num_unique_values\": 407,\n        \"samples\": [\n          7732,\n          7472,\n          3939\n        ],\n        \"semantic_type\": \"\",\n        \"description\": \"\"\n      }\n    },\n    {\n      \"column\": \"CPC\",\n      \"properties\": {\n        \"dtype\": \"category\",\n        \"num_unique_values\": 85,\n        \"samples\": [\n          \"$1.17\",\n          \"$1.50\",\n          \"$0.52\"\n        ],\n        \"semantic_type\": \"\",\n        \"description\": \"\"\n      }\n    },\n    {\n      \"column\": \"Conversions\",\n      \"properties\": {\n        \"dtype\": \"number\",\n        \"std\": 11,\n        \"min\": 8,\n        \"max\": 58,\n        \"num_unique_values\": 51,\n        \"samples\": [\n          51,\n          36,\n          45\n        ],\n        \"semantic_type\": \"\",\n        \"description\": \"\"\n      }\n    },\n    {\n      \"column\": \"Product Price\",\n      \"properties\": {\n        \"dtype\": \"number\",\n        \"std\": 15,\n        \"min\": 11,\n        \"max\": 70,\n        \"num_unique_values\": 53,\n        \"samples\": [\n          54,\n          27,\n          51\n        ],\n        \"semantic_type\": \"\",\n        \"description\": \"\"\n      }\n    },\n    {\n      \"column\": \"IQ\",\n      \"properties\": {\n        \"dtype\": \"number\",\n        \"std\": 1.2600418769013266,\n        \"min\": 5.0,\n        \"max\": 10.0,\n        \"num_unique_values\": 6,\n        \"samples\": [\n          6.0,\n          7.0,\n          10.0\n        ],\n        \"semantic_type\": \"\",\n        \"description\": \"\"\n      }\n    }\n  ]\n}"
            }
          },
          "metadata": {},
          "execution_count": 4
        }
      ]
    },
    {
      "cell_type": "code",
      "source": [
        "dataset.shape"
      ],
      "metadata": {
        "colab": {
          "base_uri": "https://localhost:8080/"
        },
        "id": "oWmKc05WsTT8",
        "outputId": "2a82b0f1-63bb-444c-ee1a-cd1bbbd4df2f"
      },
      "execution_count": 5,
      "outputs": [
        {
          "output_type": "execute_result",
          "data": {
            "text/plain": [
              "(500, 7)"
            ]
          },
          "metadata": {},
          "execution_count": 5
        }
      ]
    },
    {
      "cell_type": "code",
      "source": [
        "print(dataset.info())"
      ],
      "metadata": {
        "colab": {
          "base_uri": "https://localhost:8080/"
        },
        "id": "xUZDmsRSsW7f",
        "outputId": "6e98d8ea-ec2f-43cd-ef80-cc851700c25a"
      },
      "execution_count": 6,
      "outputs": [
        {
          "output_type": "stream",
          "name": "stdout",
          "text": [
            "<class 'pandas.core.frame.DataFrame'>\n",
            "RangeIndex: 500 entries, 0 to 499\n",
            "Data columns (total 7 columns):\n",
            " #   Column         Non-Null Count  Dtype  \n",
            "---  ------         --------------  -----  \n",
            " 0   Product        500 non-null    object \n",
            " 1   Clicks         499 non-null    float64\n",
            " 2   Impressions    500 non-null    int64  \n",
            " 3   CPC            499 non-null    object \n",
            " 4   Conversions    500 non-null    int64  \n",
            " 5   Product Price  500 non-null    int64  \n",
            " 6   IQ             499 non-null    float64\n",
            "dtypes: float64(2), int64(3), object(2)\n",
            "memory usage: 27.5+ KB\n",
            "None\n"
          ]
        }
      ]
    },
    {
      "cell_type": "code",
      "source": [
        "temp_cpc = dataset['CPC'].str.replace('[^\\d.]', '', regex=True)\n",
        "print(temp_cpc.head())"
      ],
      "metadata": {
        "colab": {
          "base_uri": "https://localhost:8080/"
        },
        "id": "lPLLEN1YslMi",
        "outputId": "4059a2ca-41eb-4668-daaf-309555284099"
      },
      "execution_count": 7,
      "outputs": [
        {
          "output_type": "stream",
          "name": "stdout",
          "text": [
            "0    1.50\n",
            "1    1.40\n",
            "2    1.12\n",
            "3    1.12\n",
            "4    1.12\n",
            "Name: CPC, dtype: object\n"
          ]
        }
      ]
    },
    {
      "cell_type": "code",
      "source": [
        "temp_cpc = pd.to_numeric(temp_cpc, errors='coerce')\n",
        "print(temp_cpc.head())"
      ],
      "metadata": {
        "colab": {
          "base_uri": "https://localhost:8080/"
        },
        "id": "OO9sRhdwsnGo",
        "outputId": "ce1a0c29-71d7-40bb-e209-e65bc7ee5da5"
      },
      "execution_count": 8,
      "outputs": [
        {
          "output_type": "stream",
          "name": "stdout",
          "text": [
            "0    1.50\n",
            "1    1.40\n",
            "2    1.12\n",
            "3    1.12\n",
            "4    1.12\n",
            "Name: CPC, dtype: float64\n"
          ]
        }
      ]
    },
    {
      "cell_type": "code",
      "source": [
        "dataset['CPC'] = temp_cpc\n",
        "print(dataset['CPC'].head())\n"
      ],
      "metadata": {
        "colab": {
          "base_uri": "https://localhost:8080/"
        },
        "id": "f4A1begdsnrk",
        "outputId": "b7918e2e-ef68-4713-c4d9-37933cbee166"
      },
      "execution_count": 9,
      "outputs": [
        {
          "output_type": "stream",
          "name": "stdout",
          "text": [
            "0    1.50\n",
            "1    1.40\n",
            "2    1.12\n",
            "3    1.12\n",
            "4    1.12\n",
            "Name: CPC, dtype: float64\n"
          ]
        }
      ]
    },
    {
      "cell_type": "code",
      "source": [
        "print(dataset.info())"
      ],
      "metadata": {
        "colab": {
          "base_uri": "https://localhost:8080/"
        },
        "id": "dgWqIpqXsxDp",
        "outputId": "b52a0708-279d-4e36-b082-43632923c3c6"
      },
      "execution_count": 10,
      "outputs": [
        {
          "output_type": "stream",
          "name": "stdout",
          "text": [
            "<class 'pandas.core.frame.DataFrame'>\n",
            "RangeIndex: 500 entries, 0 to 499\n",
            "Data columns (total 7 columns):\n",
            " #   Column         Non-Null Count  Dtype  \n",
            "---  ------         --------------  -----  \n",
            " 0   Product        500 non-null    object \n",
            " 1   Clicks         499 non-null    float64\n",
            " 2   Impressions    500 non-null    int64  \n",
            " 3   CPC            499 non-null    float64\n",
            " 4   Conversions    500 non-null    int64  \n",
            " 5   Product Price  500 non-null    int64  \n",
            " 6   IQ             499 non-null    float64\n",
            "dtypes: float64(3), int64(3), object(1)\n",
            "memory usage: 27.5+ KB\n",
            "None\n"
          ]
        }
      ]
    },
    {
      "cell_type": "code",
      "source": [
        "dataset['Spend'] = dataset['CPC'] * dataset['Clicks']"
      ],
      "metadata": {
        "id": "arsChsSrs74b"
      },
      "execution_count": 11,
      "outputs": []
    },
    {
      "cell_type": "code",
      "source": [
        "dataset['CTR'] = (dataset['Clicks'] / dataset['Impressions']) * 100"
      ],
      "metadata": {
        "id": "d6xzwZOXtIc7"
      },
      "execution_count": 12,
      "outputs": []
    },
    {
      "cell_type": "code",
      "source": [
        "dataset['CPA'] = dataset['Spend'] / dataset['Conversions']"
      ],
      "metadata": {
        "id": "drHbGwzdtJ92"
      },
      "execution_count": 13,
      "outputs": []
    },
    {
      "cell_type": "code",
      "source": [
        "dataset['CVR'] = (dataset['Conversions'] / dataset['Clicks']) * 100"
      ],
      "metadata": {
        "id": "274Bn2Kntb06"
      },
      "execution_count": 14,
      "outputs": []
    },
    {
      "cell_type": "code",
      "source": [
        "dataset['Revenue'] = dataset['Product Price'] * dataset['Conversions']"
      ],
      "metadata": {
        "id": "ADd4NVHxtMK2"
      },
      "execution_count": 15,
      "outputs": []
    },
    {
      "cell_type": "code",
      "source": [
        "dataset['ROAS'] = dataset['Revenue'] / dataset['Spend']"
      ],
      "metadata": {
        "id": "eRu_4mmltN85"
      },
      "execution_count": 16,
      "outputs": []
    },
    {
      "cell_type": "code",
      "source": [
        "dataset['ROAS >= 3'] = dataset['ROAS'].apply(lambda x: 'Yes' if x >= 3 else 'No')"
      ],
      "metadata": {
        "id": "bMAm7K3ztglv"
      },
      "execution_count": 17,
      "outputs": []
    },
    {
      "cell_type": "code",
      "source": [
        "dataset['ROAS >= 3'] = dataset['ROAS >= 3'].map({'Yes': 1, 'No': 0})"
      ],
      "metadata": {
        "id": "yoj-yebauBgb"
      },
      "execution_count": 18,
      "outputs": []
    },
    {
      "cell_type": "code",
      "source": [
        "print(dataset.info())"
      ],
      "metadata": {
        "colab": {
          "base_uri": "https://localhost:8080/"
        },
        "id": "T8c6vFXltQVQ",
        "outputId": "67ab8e2d-181b-4a4e-ce0c-f022e0506871"
      },
      "execution_count": 19,
      "outputs": [
        {
          "output_type": "stream",
          "name": "stdout",
          "text": [
            "<class 'pandas.core.frame.DataFrame'>\n",
            "RangeIndex: 500 entries, 0 to 499\n",
            "Data columns (total 14 columns):\n",
            " #   Column         Non-Null Count  Dtype  \n",
            "---  ------         --------------  -----  \n",
            " 0   Product        500 non-null    object \n",
            " 1   Clicks         499 non-null    float64\n",
            " 2   Impressions    500 non-null    int64  \n",
            " 3   CPC            499 non-null    float64\n",
            " 4   Conversions    500 non-null    int64  \n",
            " 5   Product Price  500 non-null    int64  \n",
            " 6   IQ             499 non-null    float64\n",
            " 7   Spend          499 non-null    float64\n",
            " 8   CTR            499 non-null    float64\n",
            " 9   CPA            499 non-null    float64\n",
            " 10  CVR            499 non-null    float64\n",
            " 11  Revenue        500 non-null    int64  \n",
            " 12  ROAS           499 non-null    float64\n",
            " 13  ROAS >= 3      500 non-null    int64  \n",
            "dtypes: float64(8), int64(5), object(1)\n",
            "memory usage: 54.8+ KB\n",
            "None\n"
          ]
        }
      ]
    },
    {
      "cell_type": "code",
      "source": [
        "dataset.describe()\n"
      ],
      "metadata": {
        "colab": {
          "base_uri": "https://localhost:8080/",
          "height": 300
        },
        "id": "618hjDQ6xpI4",
        "outputId": "5937b062-002a-45b6-cb05-76f9f9902ab2"
      },
      "execution_count": 20,
      "outputs": [
        {
          "output_type": "execute_result",
          "data": {
            "text/plain": [
              "            Clicks   Impressions         CPC  Conversions  Product Price  \\\n",
              "count   499.000000    500.000000  499.000000   500.000000     500.000000   \n",
              "mean    589.042084   7073.748000    1.359960    28.224000      43.444000   \n",
              "std     233.816528   3655.743075   11.155968    11.949368      15.074925   \n",
              "min     202.000000   2004.000000    0.440000     8.000000      11.000000   \n",
              "25%     376.500000   4254.750000    0.640000    18.000000      30.000000   \n",
              "50%     583.000000   6358.000000    0.820000    28.000000      43.000000   \n",
              "75%     780.000000   8835.000000    1.100000    36.250000      56.000000   \n",
              "max    1000.000000  18411.000000  250.000000    58.000000      70.000000   \n",
              "\n",
              "               IQ          Spend         CTR          CPA         CVR  \\\n",
              "count  499.000000     499.000000  499.000000   499.000000  499.000000   \n",
              "mean     7.254509     880.353307    8.963157    29.429203    4.856496   \n",
              "std      1.260042    8352.719961    2.392649   245.494772    0.880617   \n",
              "min      5.000000     112.500000    5.007481     8.184000    2.564103   \n",
              "25%      7.000000     306.075000    7.298744    13.446774    4.326559   \n",
              "50%      7.000000     448.400000    8.853176    17.277000    4.934211   \n",
              "75%      8.000000     649.780000   10.565931    21.930139    5.648181   \n",
              "max     10.000000  187000.000000   14.956737  5500.000000    6.052270   \n",
              "\n",
              "           Revenue        ROAS   ROAS >= 3  \n",
              "count   500.000000  499.000000  500.000000  \n",
              "mean   1226.268000    2.667406    0.332000  \n",
              "std     694.493853    1.345085    0.471403  \n",
              "min     165.000000    0.010182    0.000000  \n",
              "25%     680.000000    1.654006    0.000000  \n",
              "50%    1060.000000    2.441327    0.000000  \n",
              "75%    1651.500000    3.381469    1.000000  \n",
              "max    3710.000000    7.445590    1.000000  "
            ],
            "text/html": [
              "\n",
              "  <div id=\"df-2f276ff7-d763-4dd1-9725-1391ff9d6088\" class=\"colab-df-container\">\n",
              "    <div>\n",
              "<style scoped>\n",
              "    .dataframe tbody tr th:only-of-type {\n",
              "        vertical-align: middle;\n",
              "    }\n",
              "\n",
              "    .dataframe tbody tr th {\n",
              "        vertical-align: top;\n",
              "    }\n",
              "\n",
              "    .dataframe thead th {\n",
              "        text-align: right;\n",
              "    }\n",
              "</style>\n",
              "<table border=\"1\" class=\"dataframe\">\n",
              "  <thead>\n",
              "    <tr style=\"text-align: right;\">\n",
              "      <th></th>\n",
              "      <th>Clicks</th>\n",
              "      <th>Impressions</th>\n",
              "      <th>CPC</th>\n",
              "      <th>Conversions</th>\n",
              "      <th>Product Price</th>\n",
              "      <th>IQ</th>\n",
              "      <th>Spend</th>\n",
              "      <th>CTR</th>\n",
              "      <th>CPA</th>\n",
              "      <th>CVR</th>\n",
              "      <th>Revenue</th>\n",
              "      <th>ROAS</th>\n",
              "      <th>ROAS &gt;= 3</th>\n",
              "    </tr>\n",
              "  </thead>\n",
              "  <tbody>\n",
              "    <tr>\n",
              "      <th>count</th>\n",
              "      <td>499.000000</td>\n",
              "      <td>500.000000</td>\n",
              "      <td>499.000000</td>\n",
              "      <td>500.000000</td>\n",
              "      <td>500.000000</td>\n",
              "      <td>499.000000</td>\n",
              "      <td>499.000000</td>\n",
              "      <td>499.000000</td>\n",
              "      <td>499.000000</td>\n",
              "      <td>499.000000</td>\n",
              "      <td>500.000000</td>\n",
              "      <td>499.000000</td>\n",
              "      <td>500.000000</td>\n",
              "    </tr>\n",
              "    <tr>\n",
              "      <th>mean</th>\n",
              "      <td>589.042084</td>\n",
              "      <td>7073.748000</td>\n",
              "      <td>1.359960</td>\n",
              "      <td>28.224000</td>\n",
              "      <td>43.444000</td>\n",
              "      <td>7.254509</td>\n",
              "      <td>880.353307</td>\n",
              "      <td>8.963157</td>\n",
              "      <td>29.429203</td>\n",
              "      <td>4.856496</td>\n",
              "      <td>1226.268000</td>\n",
              "      <td>2.667406</td>\n",
              "      <td>0.332000</td>\n",
              "    </tr>\n",
              "    <tr>\n",
              "      <th>std</th>\n",
              "      <td>233.816528</td>\n",
              "      <td>3655.743075</td>\n",
              "      <td>11.155968</td>\n",
              "      <td>11.949368</td>\n",
              "      <td>15.074925</td>\n",
              "      <td>1.260042</td>\n",
              "      <td>8352.719961</td>\n",
              "      <td>2.392649</td>\n",
              "      <td>245.494772</td>\n",
              "      <td>0.880617</td>\n",
              "      <td>694.493853</td>\n",
              "      <td>1.345085</td>\n",
              "      <td>0.471403</td>\n",
              "    </tr>\n",
              "    <tr>\n",
              "      <th>min</th>\n",
              "      <td>202.000000</td>\n",
              "      <td>2004.000000</td>\n",
              "      <td>0.440000</td>\n",
              "      <td>8.000000</td>\n",
              "      <td>11.000000</td>\n",
              "      <td>5.000000</td>\n",
              "      <td>112.500000</td>\n",
              "      <td>5.007481</td>\n",
              "      <td>8.184000</td>\n",
              "      <td>2.564103</td>\n",
              "      <td>165.000000</td>\n",
              "      <td>0.010182</td>\n",
              "      <td>0.000000</td>\n",
              "    </tr>\n",
              "    <tr>\n",
              "      <th>25%</th>\n",
              "      <td>376.500000</td>\n",
              "      <td>4254.750000</td>\n",
              "      <td>0.640000</td>\n",
              "      <td>18.000000</td>\n",
              "      <td>30.000000</td>\n",
              "      <td>7.000000</td>\n",
              "      <td>306.075000</td>\n",
              "      <td>7.298744</td>\n",
              "      <td>13.446774</td>\n",
              "      <td>4.326559</td>\n",
              "      <td>680.000000</td>\n",
              "      <td>1.654006</td>\n",
              "      <td>0.000000</td>\n",
              "    </tr>\n",
              "    <tr>\n",
              "      <th>50%</th>\n",
              "      <td>583.000000</td>\n",
              "      <td>6358.000000</td>\n",
              "      <td>0.820000</td>\n",
              "      <td>28.000000</td>\n",
              "      <td>43.000000</td>\n",
              "      <td>7.000000</td>\n",
              "      <td>448.400000</td>\n",
              "      <td>8.853176</td>\n",
              "      <td>17.277000</td>\n",
              "      <td>4.934211</td>\n",
              "      <td>1060.000000</td>\n",
              "      <td>2.441327</td>\n",
              "      <td>0.000000</td>\n",
              "    </tr>\n",
              "    <tr>\n",
              "      <th>75%</th>\n",
              "      <td>780.000000</td>\n",
              "      <td>8835.000000</td>\n",
              "      <td>1.100000</td>\n",
              "      <td>36.250000</td>\n",
              "      <td>56.000000</td>\n",
              "      <td>8.000000</td>\n",
              "      <td>649.780000</td>\n",
              "      <td>10.565931</td>\n",
              "      <td>21.930139</td>\n",
              "      <td>5.648181</td>\n",
              "      <td>1651.500000</td>\n",
              "      <td>3.381469</td>\n",
              "      <td>1.000000</td>\n",
              "    </tr>\n",
              "    <tr>\n",
              "      <th>max</th>\n",
              "      <td>1000.000000</td>\n",
              "      <td>18411.000000</td>\n",
              "      <td>250.000000</td>\n",
              "      <td>58.000000</td>\n",
              "      <td>70.000000</td>\n",
              "      <td>10.000000</td>\n",
              "      <td>187000.000000</td>\n",
              "      <td>14.956737</td>\n",
              "      <td>5500.000000</td>\n",
              "      <td>6.052270</td>\n",
              "      <td>3710.000000</td>\n",
              "      <td>7.445590</td>\n",
              "      <td>1.000000</td>\n",
              "    </tr>\n",
              "  </tbody>\n",
              "</table>\n",
              "</div>\n",
              "    <div class=\"colab-df-buttons\">\n",
              "\n",
              "  <div class=\"colab-df-container\">\n",
              "    <button class=\"colab-df-convert\" onclick=\"convertToInteractive('df-2f276ff7-d763-4dd1-9725-1391ff9d6088')\"\n",
              "            title=\"Convert this dataframe to an interactive table.\"\n",
              "            style=\"display:none;\">\n",
              "\n",
              "  <svg xmlns=\"http://www.w3.org/2000/svg\" height=\"24px\" viewBox=\"0 -960 960 960\">\n",
              "    <path d=\"M120-120v-720h720v720H120Zm60-500h600v-160H180v160Zm220 220h160v-160H400v160Zm0 220h160v-160H400v160ZM180-400h160v-160H180v160Zm440 0h160v-160H620v160ZM180-180h160v-160H180v160Zm440 0h160v-160H620v160Z\"/>\n",
              "  </svg>\n",
              "    </button>\n",
              "\n",
              "  <style>\n",
              "    .colab-df-container {\n",
              "      display:flex;\n",
              "      gap: 12px;\n",
              "    }\n",
              "\n",
              "    .colab-df-convert {\n",
              "      background-color: #E8F0FE;\n",
              "      border: none;\n",
              "      border-radius: 50%;\n",
              "      cursor: pointer;\n",
              "      display: none;\n",
              "      fill: #1967D2;\n",
              "      height: 32px;\n",
              "      padding: 0 0 0 0;\n",
              "      width: 32px;\n",
              "    }\n",
              "\n",
              "    .colab-df-convert:hover {\n",
              "      background-color: #E2EBFA;\n",
              "      box-shadow: 0px 1px 2px rgba(60, 64, 67, 0.3), 0px 1px 3px 1px rgba(60, 64, 67, 0.15);\n",
              "      fill: #174EA6;\n",
              "    }\n",
              "\n",
              "    .colab-df-buttons div {\n",
              "      margin-bottom: 4px;\n",
              "    }\n",
              "\n",
              "    [theme=dark] .colab-df-convert {\n",
              "      background-color: #3B4455;\n",
              "      fill: #D2E3FC;\n",
              "    }\n",
              "\n",
              "    [theme=dark] .colab-df-convert:hover {\n",
              "      background-color: #434B5C;\n",
              "      box-shadow: 0px 1px 3px 1px rgba(0, 0, 0, 0.15);\n",
              "      filter: drop-shadow(0px 1px 2px rgba(0, 0, 0, 0.3));\n",
              "      fill: #FFFFFF;\n",
              "    }\n",
              "  </style>\n",
              "\n",
              "    <script>\n",
              "      const buttonEl =\n",
              "        document.querySelector('#df-2f276ff7-d763-4dd1-9725-1391ff9d6088 button.colab-df-convert');\n",
              "      buttonEl.style.display =\n",
              "        google.colab.kernel.accessAllowed ? 'block' : 'none';\n",
              "\n",
              "      async function convertToInteractive(key) {\n",
              "        const element = document.querySelector('#df-2f276ff7-d763-4dd1-9725-1391ff9d6088');\n",
              "        const dataTable =\n",
              "          await google.colab.kernel.invokeFunction('convertToInteractive',\n",
              "                                                    [key], {});\n",
              "        if (!dataTable) return;\n",
              "\n",
              "        const docLinkHtml = 'Like what you see? Visit the ' +\n",
              "          '<a target=\"_blank\" href=https://colab.research.google.com/notebooks/data_table.ipynb>data table notebook</a>'\n",
              "          + ' to learn more about interactive tables.';\n",
              "        element.innerHTML = '';\n",
              "        dataTable['output_type'] = 'display_data';\n",
              "        await google.colab.output.renderOutput(dataTable, element);\n",
              "        const docLink = document.createElement('div');\n",
              "        docLink.innerHTML = docLinkHtml;\n",
              "        element.appendChild(docLink);\n",
              "      }\n",
              "    </script>\n",
              "  </div>\n",
              "\n",
              "\n",
              "<div id=\"df-bb90299c-c66e-4e0e-9622-f32c37eed71a\">\n",
              "  <button class=\"colab-df-quickchart\" onclick=\"quickchart('df-bb90299c-c66e-4e0e-9622-f32c37eed71a')\"\n",
              "            title=\"Suggest charts\"\n",
              "            style=\"display:none;\">\n",
              "\n",
              "<svg xmlns=\"http://www.w3.org/2000/svg\" height=\"24px\"viewBox=\"0 0 24 24\"\n",
              "     width=\"24px\">\n",
              "    <g>\n",
              "        <path d=\"M19 3H5c-1.1 0-2 .9-2 2v14c0 1.1.9 2 2 2h14c1.1 0 2-.9 2-2V5c0-1.1-.9-2-2-2zM9 17H7v-7h2v7zm4 0h-2V7h2v10zm4 0h-2v-4h2v4z\"/>\n",
              "    </g>\n",
              "</svg>\n",
              "  </button>\n",
              "\n",
              "<style>\n",
              "  .colab-df-quickchart {\n",
              "      --bg-color: #E8F0FE;\n",
              "      --fill-color: #1967D2;\n",
              "      --hover-bg-color: #E2EBFA;\n",
              "      --hover-fill-color: #174EA6;\n",
              "      --disabled-fill-color: #AAA;\n",
              "      --disabled-bg-color: #DDD;\n",
              "  }\n",
              "\n",
              "  [theme=dark] .colab-df-quickchart {\n",
              "      --bg-color: #3B4455;\n",
              "      --fill-color: #D2E3FC;\n",
              "      --hover-bg-color: #434B5C;\n",
              "      --hover-fill-color: #FFFFFF;\n",
              "      --disabled-bg-color: #3B4455;\n",
              "      --disabled-fill-color: #666;\n",
              "  }\n",
              "\n",
              "  .colab-df-quickchart {\n",
              "    background-color: var(--bg-color);\n",
              "    border: none;\n",
              "    border-radius: 50%;\n",
              "    cursor: pointer;\n",
              "    display: none;\n",
              "    fill: var(--fill-color);\n",
              "    height: 32px;\n",
              "    padding: 0;\n",
              "    width: 32px;\n",
              "  }\n",
              "\n",
              "  .colab-df-quickchart:hover {\n",
              "    background-color: var(--hover-bg-color);\n",
              "    box-shadow: 0 1px 2px rgba(60, 64, 67, 0.3), 0 1px 3px 1px rgba(60, 64, 67, 0.15);\n",
              "    fill: var(--button-hover-fill-color);\n",
              "  }\n",
              "\n",
              "  .colab-df-quickchart-complete:disabled,\n",
              "  .colab-df-quickchart-complete:disabled:hover {\n",
              "    background-color: var(--disabled-bg-color);\n",
              "    fill: var(--disabled-fill-color);\n",
              "    box-shadow: none;\n",
              "  }\n",
              "\n",
              "  .colab-df-spinner {\n",
              "    border: 2px solid var(--fill-color);\n",
              "    border-color: transparent;\n",
              "    border-bottom-color: var(--fill-color);\n",
              "    animation:\n",
              "      spin 1s steps(1) infinite;\n",
              "  }\n",
              "\n",
              "  @keyframes spin {\n",
              "    0% {\n",
              "      border-color: transparent;\n",
              "      border-bottom-color: var(--fill-color);\n",
              "      border-left-color: var(--fill-color);\n",
              "    }\n",
              "    20% {\n",
              "      border-color: transparent;\n",
              "      border-left-color: var(--fill-color);\n",
              "      border-top-color: var(--fill-color);\n",
              "    }\n",
              "    30% {\n",
              "      border-color: transparent;\n",
              "      border-left-color: var(--fill-color);\n",
              "      border-top-color: var(--fill-color);\n",
              "      border-right-color: var(--fill-color);\n",
              "    }\n",
              "    40% {\n",
              "      border-color: transparent;\n",
              "      border-right-color: var(--fill-color);\n",
              "      border-top-color: var(--fill-color);\n",
              "    }\n",
              "    60% {\n",
              "      border-color: transparent;\n",
              "      border-right-color: var(--fill-color);\n",
              "    }\n",
              "    80% {\n",
              "      border-color: transparent;\n",
              "      border-right-color: var(--fill-color);\n",
              "      border-bottom-color: var(--fill-color);\n",
              "    }\n",
              "    90% {\n",
              "      border-color: transparent;\n",
              "      border-bottom-color: var(--fill-color);\n",
              "    }\n",
              "  }\n",
              "</style>\n",
              "\n",
              "  <script>\n",
              "    async function quickchart(key) {\n",
              "      const quickchartButtonEl =\n",
              "        document.querySelector('#' + key + ' button');\n",
              "      quickchartButtonEl.disabled = true;  // To prevent multiple clicks.\n",
              "      quickchartButtonEl.classList.add('colab-df-spinner');\n",
              "      try {\n",
              "        const charts = await google.colab.kernel.invokeFunction(\n",
              "            'suggestCharts', [key], {});\n",
              "      } catch (error) {\n",
              "        console.error('Error during call to suggestCharts:', error);\n",
              "      }\n",
              "      quickchartButtonEl.classList.remove('colab-df-spinner');\n",
              "      quickchartButtonEl.classList.add('colab-df-quickchart-complete');\n",
              "    }\n",
              "    (() => {\n",
              "      let quickchartButtonEl =\n",
              "        document.querySelector('#df-bb90299c-c66e-4e0e-9622-f32c37eed71a button');\n",
              "      quickchartButtonEl.style.display =\n",
              "        google.colab.kernel.accessAllowed ? 'block' : 'none';\n",
              "    })();\n",
              "  </script>\n",
              "</div>\n",
              "\n",
              "    </div>\n",
              "  </div>\n"
            ],
            "application/vnd.google.colaboratory.intrinsic+json": {
              "type": "dataframe",
              "summary": "{\n  \"name\": \"dataset\",\n  \"rows\": 8,\n  \"fields\": [\n    {\n      \"column\": \"Clicks\",\n      \"properties\": {\n        \"dtype\": \"number\",\n        \"std\": 269.7773323930591,\n        \"min\": 202.0,\n        \"max\": 1000.0,\n        \"num_unique_values\": 8,\n        \"samples\": [\n          589.0420841683367,\n          583.0,\n          499.0\n        ],\n        \"semantic_type\": \"\",\n        \"description\": \"\"\n      }\n    },\n    {\n      \"column\": \"Impressions\",\n      \"properties\": {\n        \"dtype\": \"number\",\n        \"std\": 5566.679627177953,\n        \"min\": 500.0,\n        \"max\": 18411.0,\n        \"num_unique_values\": 8,\n        \"samples\": [\n          7073.748,\n          6358.0,\n          500.0\n        ],\n        \"semantic_type\": \"\",\n        \"description\": \"\"\n      }\n    },\n    {\n      \"column\": \"CPC\",\n      \"properties\": {\n        \"dtype\": \"number\",\n        \"std\": 184.61125767964776,\n        \"min\": 0.44,\n        \"max\": 499.0,\n        \"num_unique_values\": 8,\n        \"samples\": [\n          1.3599599198396792,\n          0.82,\n          499.0\n        ],\n        \"semantic_type\": \"\",\n        \"description\": \"\"\n      }\n    },\n    {\n      \"column\": \"Conversions\",\n      \"properties\": {\n        \"dtype\": \"number\",\n        \"std\": 167.9917524976867,\n        \"min\": 8.0,\n        \"max\": 500.0,\n        \"num_unique_values\": 8,\n        \"samples\": [\n          28.224,\n          28.0,\n          500.0\n        ],\n        \"semantic_type\": \"\",\n        \"description\": \"\"\n      }\n    },\n    {\n      \"column\": \"Product Price\",\n      \"properties\": {\n        \"dtype\": \"number\",\n        \"std\": 164.40062877957166,\n        \"min\": 11.0,\n        \"max\": 500.0,\n        \"num_unique_values\": 8,\n        \"samples\": [\n          43.444,\n          43.0,\n          500.0\n        ],\n        \"semantic_type\": \"\",\n        \"description\": \"\"\n      }\n    },\n    {\n      \"column\": \"IQ\",\n      \"properties\": {\n        \"dtype\": \"number\",\n        \"std\": 174.14288205361913,\n        \"min\": 1.2600418769013266,\n        \"max\": 499.0,\n        \"num_unique_values\": 7,\n        \"samples\": [\n          499.0,\n          7.254509018036072,\n          8.0\n        ],\n        \"semantic_type\": \"\",\n        \"description\": \"\"\n      }\n    },\n    {\n      \"column\": \"Spend\",\n      \"properties\": {\n        \"dtype\": \"number\",\n        \"std\": 65604.54778417738,\n        \"min\": 112.5,\n        \"max\": 187000.0,\n        \"num_unique_values\": 8,\n        \"samples\": [\n          880.3533066132264,\n          448.4,\n          499.0\n        ],\n        \"semantic_type\": \"\",\n        \"description\": \"\"\n      }\n    },\n    {\n      \"column\": \"CTR\",\n      \"properties\": {\n        \"dtype\": \"number\",\n        \"std\": 173.53168988649134,\n        \"min\": 2.392648597296499,\n        \"max\": 499.0,\n        \"num_unique_values\": 8,\n        \"samples\": [\n          8.963157019403495,\n          8.853176112590338,\n          499.0\n        ],\n        \"semantic_type\": \"\",\n        \"description\": \"\"\n      }\n    },\n    {\n      \"column\": \"CPA\",\n      \"properties\": {\n        \"dtype\": \"number\",\n        \"std\": 1910.3107809337025,\n        \"min\": 8.184000000000001,\n        \"max\": 5500.0,\n        \"num_unique_values\": 8,\n        \"samples\": [\n          29.429202763612917,\n          17.277,\n          499.0\n        ],\n        \"semantic_type\": \"\",\n        \"description\": \"\"\n      }\n    },\n    {\n      \"column\": \"CVR\",\n      \"properties\": {\n        \"dtype\": \"number\",\n        \"std\": 174.95341546416685,\n        \"min\": 0.8806168018583089,\n        \"max\": 499.0,\n        \"num_unique_values\": 8,\n        \"samples\": [\n          4.856495646516792,\n          4.934210526315789,\n          499.0\n        ],\n        \"semantic_type\": \"\",\n        \"description\": \"\"\n      }\n    },\n    {\n      \"column\": \"Revenue\",\n      \"properties\": {\n        \"dtype\": \"number\",\n        \"std\": 1109.082754467158,\n        \"min\": 165.0,\n        \"max\": 3710.0,\n        \"num_unique_values\": 8,\n        \"samples\": [\n          1226.268,\n          1060.0,\n          500.0\n        ],\n        \"semantic_type\": \"\",\n        \"description\": \"\"\n      }\n    },\n    {\n      \"column\": \"ROAS\",\n      \"properties\": {\n        \"dtype\": \"number\",\n        \"std\": 175.4797933469695,\n        \"min\": 0.010181818181818183,\n        \"max\": 499.0,\n        \"num_unique_values\": 8,\n        \"samples\": [\n          2.667405880818542,\n          2.441326530612245,\n          499.0\n        ],\n        \"semantic_type\": \"\",\n        \"description\": \"\"\n      }\n    },\n    {\n      \"column\": \"ROAS >= 3\",\n      \"properties\": {\n        \"dtype\": \"number\",\n        \"std\": 176.6355912736841,\n        \"min\": 0.0,\n        \"max\": 500.0,\n        \"num_unique_values\": 5,\n        \"samples\": [\n          0.332,\n          1.0,\n          0.4714026313903684\n        ],\n        \"semantic_type\": \"\",\n        \"description\": \"\"\n      }\n    }\n  ]\n}"
            }
          },
          "metadata": {},
          "execution_count": 20
        }
      ]
    },
    {
      "cell_type": "code",
      "source": [
        "dataset = dataset.drop(['Product'], axis=1)"
      ],
      "metadata": {
        "id": "13MLEvFMs1yP"
      },
      "execution_count": 21,
      "outputs": []
    },
    {
      "cell_type": "code",
      "source": [
        "dataset.describe()"
      ],
      "metadata": {
        "colab": {
          "base_uri": "https://localhost:8080/",
          "height": 300
        },
        "id": "K_Q_TOd9wtzI",
        "outputId": "3857a02e-45e1-46ee-8fad-755af09aec55"
      },
      "execution_count": 22,
      "outputs": [
        {
          "output_type": "execute_result",
          "data": {
            "text/plain": [
              "            Clicks   Impressions         CPC  Conversions  Product Price  \\\n",
              "count   499.000000    500.000000  499.000000   500.000000     500.000000   \n",
              "mean    589.042084   7073.748000    1.359960    28.224000      43.444000   \n",
              "std     233.816528   3655.743075   11.155968    11.949368      15.074925   \n",
              "min     202.000000   2004.000000    0.440000     8.000000      11.000000   \n",
              "25%     376.500000   4254.750000    0.640000    18.000000      30.000000   \n",
              "50%     583.000000   6358.000000    0.820000    28.000000      43.000000   \n",
              "75%     780.000000   8835.000000    1.100000    36.250000      56.000000   \n",
              "max    1000.000000  18411.000000  250.000000    58.000000      70.000000   \n",
              "\n",
              "               IQ          Spend         CTR          CPA         CVR  \\\n",
              "count  499.000000     499.000000  499.000000   499.000000  499.000000   \n",
              "mean     7.254509     880.353307    8.963157    29.429203    4.856496   \n",
              "std      1.260042    8352.719961    2.392649   245.494772    0.880617   \n",
              "min      5.000000     112.500000    5.007481     8.184000    2.564103   \n",
              "25%      7.000000     306.075000    7.298744    13.446774    4.326559   \n",
              "50%      7.000000     448.400000    8.853176    17.277000    4.934211   \n",
              "75%      8.000000     649.780000   10.565931    21.930139    5.648181   \n",
              "max     10.000000  187000.000000   14.956737  5500.000000    6.052270   \n",
              "\n",
              "           Revenue        ROAS   ROAS >= 3  \n",
              "count   500.000000  499.000000  500.000000  \n",
              "mean   1226.268000    2.667406    0.332000  \n",
              "std     694.493853    1.345085    0.471403  \n",
              "min     165.000000    0.010182    0.000000  \n",
              "25%     680.000000    1.654006    0.000000  \n",
              "50%    1060.000000    2.441327    0.000000  \n",
              "75%    1651.500000    3.381469    1.000000  \n",
              "max    3710.000000    7.445590    1.000000  "
            ],
            "text/html": [
              "\n",
              "  <div id=\"df-3d048070-3ee5-49f8-96b6-a91fb781653a\" class=\"colab-df-container\">\n",
              "    <div>\n",
              "<style scoped>\n",
              "    .dataframe tbody tr th:only-of-type {\n",
              "        vertical-align: middle;\n",
              "    }\n",
              "\n",
              "    .dataframe tbody tr th {\n",
              "        vertical-align: top;\n",
              "    }\n",
              "\n",
              "    .dataframe thead th {\n",
              "        text-align: right;\n",
              "    }\n",
              "</style>\n",
              "<table border=\"1\" class=\"dataframe\">\n",
              "  <thead>\n",
              "    <tr style=\"text-align: right;\">\n",
              "      <th></th>\n",
              "      <th>Clicks</th>\n",
              "      <th>Impressions</th>\n",
              "      <th>CPC</th>\n",
              "      <th>Conversions</th>\n",
              "      <th>Product Price</th>\n",
              "      <th>IQ</th>\n",
              "      <th>Spend</th>\n",
              "      <th>CTR</th>\n",
              "      <th>CPA</th>\n",
              "      <th>CVR</th>\n",
              "      <th>Revenue</th>\n",
              "      <th>ROAS</th>\n",
              "      <th>ROAS &gt;= 3</th>\n",
              "    </tr>\n",
              "  </thead>\n",
              "  <tbody>\n",
              "    <tr>\n",
              "      <th>count</th>\n",
              "      <td>499.000000</td>\n",
              "      <td>500.000000</td>\n",
              "      <td>499.000000</td>\n",
              "      <td>500.000000</td>\n",
              "      <td>500.000000</td>\n",
              "      <td>499.000000</td>\n",
              "      <td>499.000000</td>\n",
              "      <td>499.000000</td>\n",
              "      <td>499.000000</td>\n",
              "      <td>499.000000</td>\n",
              "      <td>500.000000</td>\n",
              "      <td>499.000000</td>\n",
              "      <td>500.000000</td>\n",
              "    </tr>\n",
              "    <tr>\n",
              "      <th>mean</th>\n",
              "      <td>589.042084</td>\n",
              "      <td>7073.748000</td>\n",
              "      <td>1.359960</td>\n",
              "      <td>28.224000</td>\n",
              "      <td>43.444000</td>\n",
              "      <td>7.254509</td>\n",
              "      <td>880.353307</td>\n",
              "      <td>8.963157</td>\n",
              "      <td>29.429203</td>\n",
              "      <td>4.856496</td>\n",
              "      <td>1226.268000</td>\n",
              "      <td>2.667406</td>\n",
              "      <td>0.332000</td>\n",
              "    </tr>\n",
              "    <tr>\n",
              "      <th>std</th>\n",
              "      <td>233.816528</td>\n",
              "      <td>3655.743075</td>\n",
              "      <td>11.155968</td>\n",
              "      <td>11.949368</td>\n",
              "      <td>15.074925</td>\n",
              "      <td>1.260042</td>\n",
              "      <td>8352.719961</td>\n",
              "      <td>2.392649</td>\n",
              "      <td>245.494772</td>\n",
              "      <td>0.880617</td>\n",
              "      <td>694.493853</td>\n",
              "      <td>1.345085</td>\n",
              "      <td>0.471403</td>\n",
              "    </tr>\n",
              "    <tr>\n",
              "      <th>min</th>\n",
              "      <td>202.000000</td>\n",
              "      <td>2004.000000</td>\n",
              "      <td>0.440000</td>\n",
              "      <td>8.000000</td>\n",
              "      <td>11.000000</td>\n",
              "      <td>5.000000</td>\n",
              "      <td>112.500000</td>\n",
              "      <td>5.007481</td>\n",
              "      <td>8.184000</td>\n",
              "      <td>2.564103</td>\n",
              "      <td>165.000000</td>\n",
              "      <td>0.010182</td>\n",
              "      <td>0.000000</td>\n",
              "    </tr>\n",
              "    <tr>\n",
              "      <th>25%</th>\n",
              "      <td>376.500000</td>\n",
              "      <td>4254.750000</td>\n",
              "      <td>0.640000</td>\n",
              "      <td>18.000000</td>\n",
              "      <td>30.000000</td>\n",
              "      <td>7.000000</td>\n",
              "      <td>306.075000</td>\n",
              "      <td>7.298744</td>\n",
              "      <td>13.446774</td>\n",
              "      <td>4.326559</td>\n",
              "      <td>680.000000</td>\n",
              "      <td>1.654006</td>\n",
              "      <td>0.000000</td>\n",
              "    </tr>\n",
              "    <tr>\n",
              "      <th>50%</th>\n",
              "      <td>583.000000</td>\n",
              "      <td>6358.000000</td>\n",
              "      <td>0.820000</td>\n",
              "      <td>28.000000</td>\n",
              "      <td>43.000000</td>\n",
              "      <td>7.000000</td>\n",
              "      <td>448.400000</td>\n",
              "      <td>8.853176</td>\n",
              "      <td>17.277000</td>\n",
              "      <td>4.934211</td>\n",
              "      <td>1060.000000</td>\n",
              "      <td>2.441327</td>\n",
              "      <td>0.000000</td>\n",
              "    </tr>\n",
              "    <tr>\n",
              "      <th>75%</th>\n",
              "      <td>780.000000</td>\n",
              "      <td>8835.000000</td>\n",
              "      <td>1.100000</td>\n",
              "      <td>36.250000</td>\n",
              "      <td>56.000000</td>\n",
              "      <td>8.000000</td>\n",
              "      <td>649.780000</td>\n",
              "      <td>10.565931</td>\n",
              "      <td>21.930139</td>\n",
              "      <td>5.648181</td>\n",
              "      <td>1651.500000</td>\n",
              "      <td>3.381469</td>\n",
              "      <td>1.000000</td>\n",
              "    </tr>\n",
              "    <tr>\n",
              "      <th>max</th>\n",
              "      <td>1000.000000</td>\n",
              "      <td>18411.000000</td>\n",
              "      <td>250.000000</td>\n",
              "      <td>58.000000</td>\n",
              "      <td>70.000000</td>\n",
              "      <td>10.000000</td>\n",
              "      <td>187000.000000</td>\n",
              "      <td>14.956737</td>\n",
              "      <td>5500.000000</td>\n",
              "      <td>6.052270</td>\n",
              "      <td>3710.000000</td>\n",
              "      <td>7.445590</td>\n",
              "      <td>1.000000</td>\n",
              "    </tr>\n",
              "  </tbody>\n",
              "</table>\n",
              "</div>\n",
              "    <div class=\"colab-df-buttons\">\n",
              "\n",
              "  <div class=\"colab-df-container\">\n",
              "    <button class=\"colab-df-convert\" onclick=\"convertToInteractive('df-3d048070-3ee5-49f8-96b6-a91fb781653a')\"\n",
              "            title=\"Convert this dataframe to an interactive table.\"\n",
              "            style=\"display:none;\">\n",
              "\n",
              "  <svg xmlns=\"http://www.w3.org/2000/svg\" height=\"24px\" viewBox=\"0 -960 960 960\">\n",
              "    <path d=\"M120-120v-720h720v720H120Zm60-500h600v-160H180v160Zm220 220h160v-160H400v160Zm0 220h160v-160H400v160ZM180-400h160v-160H180v160Zm440 0h160v-160H620v160ZM180-180h160v-160H180v160Zm440 0h160v-160H620v160Z\"/>\n",
              "  </svg>\n",
              "    </button>\n",
              "\n",
              "  <style>\n",
              "    .colab-df-container {\n",
              "      display:flex;\n",
              "      gap: 12px;\n",
              "    }\n",
              "\n",
              "    .colab-df-convert {\n",
              "      background-color: #E8F0FE;\n",
              "      border: none;\n",
              "      border-radius: 50%;\n",
              "      cursor: pointer;\n",
              "      display: none;\n",
              "      fill: #1967D2;\n",
              "      height: 32px;\n",
              "      padding: 0 0 0 0;\n",
              "      width: 32px;\n",
              "    }\n",
              "\n",
              "    .colab-df-convert:hover {\n",
              "      background-color: #E2EBFA;\n",
              "      box-shadow: 0px 1px 2px rgba(60, 64, 67, 0.3), 0px 1px 3px 1px rgba(60, 64, 67, 0.15);\n",
              "      fill: #174EA6;\n",
              "    }\n",
              "\n",
              "    .colab-df-buttons div {\n",
              "      margin-bottom: 4px;\n",
              "    }\n",
              "\n",
              "    [theme=dark] .colab-df-convert {\n",
              "      background-color: #3B4455;\n",
              "      fill: #D2E3FC;\n",
              "    }\n",
              "\n",
              "    [theme=dark] .colab-df-convert:hover {\n",
              "      background-color: #434B5C;\n",
              "      box-shadow: 0px 1px 3px 1px rgba(0, 0, 0, 0.15);\n",
              "      filter: drop-shadow(0px 1px 2px rgba(0, 0, 0, 0.3));\n",
              "      fill: #FFFFFF;\n",
              "    }\n",
              "  </style>\n",
              "\n",
              "    <script>\n",
              "      const buttonEl =\n",
              "        document.querySelector('#df-3d048070-3ee5-49f8-96b6-a91fb781653a button.colab-df-convert');\n",
              "      buttonEl.style.display =\n",
              "        google.colab.kernel.accessAllowed ? 'block' : 'none';\n",
              "\n",
              "      async function convertToInteractive(key) {\n",
              "        const element = document.querySelector('#df-3d048070-3ee5-49f8-96b6-a91fb781653a');\n",
              "        const dataTable =\n",
              "          await google.colab.kernel.invokeFunction('convertToInteractive',\n",
              "                                                    [key], {});\n",
              "        if (!dataTable) return;\n",
              "\n",
              "        const docLinkHtml = 'Like what you see? Visit the ' +\n",
              "          '<a target=\"_blank\" href=https://colab.research.google.com/notebooks/data_table.ipynb>data table notebook</a>'\n",
              "          + ' to learn more about interactive tables.';\n",
              "        element.innerHTML = '';\n",
              "        dataTable['output_type'] = 'display_data';\n",
              "        await google.colab.output.renderOutput(dataTable, element);\n",
              "        const docLink = document.createElement('div');\n",
              "        docLink.innerHTML = docLinkHtml;\n",
              "        element.appendChild(docLink);\n",
              "      }\n",
              "    </script>\n",
              "  </div>\n",
              "\n",
              "\n",
              "<div id=\"df-9af6c601-233a-402e-a149-00a53efc61ad\">\n",
              "  <button class=\"colab-df-quickchart\" onclick=\"quickchart('df-9af6c601-233a-402e-a149-00a53efc61ad')\"\n",
              "            title=\"Suggest charts\"\n",
              "            style=\"display:none;\">\n",
              "\n",
              "<svg xmlns=\"http://www.w3.org/2000/svg\" height=\"24px\"viewBox=\"0 0 24 24\"\n",
              "     width=\"24px\">\n",
              "    <g>\n",
              "        <path d=\"M19 3H5c-1.1 0-2 .9-2 2v14c0 1.1.9 2 2 2h14c1.1 0 2-.9 2-2V5c0-1.1-.9-2-2-2zM9 17H7v-7h2v7zm4 0h-2V7h2v10zm4 0h-2v-4h2v4z\"/>\n",
              "    </g>\n",
              "</svg>\n",
              "  </button>\n",
              "\n",
              "<style>\n",
              "  .colab-df-quickchart {\n",
              "      --bg-color: #E8F0FE;\n",
              "      --fill-color: #1967D2;\n",
              "      --hover-bg-color: #E2EBFA;\n",
              "      --hover-fill-color: #174EA6;\n",
              "      --disabled-fill-color: #AAA;\n",
              "      --disabled-bg-color: #DDD;\n",
              "  }\n",
              "\n",
              "  [theme=dark] .colab-df-quickchart {\n",
              "      --bg-color: #3B4455;\n",
              "      --fill-color: #D2E3FC;\n",
              "      --hover-bg-color: #434B5C;\n",
              "      --hover-fill-color: #FFFFFF;\n",
              "      --disabled-bg-color: #3B4455;\n",
              "      --disabled-fill-color: #666;\n",
              "  }\n",
              "\n",
              "  .colab-df-quickchart {\n",
              "    background-color: var(--bg-color);\n",
              "    border: none;\n",
              "    border-radius: 50%;\n",
              "    cursor: pointer;\n",
              "    display: none;\n",
              "    fill: var(--fill-color);\n",
              "    height: 32px;\n",
              "    padding: 0;\n",
              "    width: 32px;\n",
              "  }\n",
              "\n",
              "  .colab-df-quickchart:hover {\n",
              "    background-color: var(--hover-bg-color);\n",
              "    box-shadow: 0 1px 2px rgba(60, 64, 67, 0.3), 0 1px 3px 1px rgba(60, 64, 67, 0.15);\n",
              "    fill: var(--button-hover-fill-color);\n",
              "  }\n",
              "\n",
              "  .colab-df-quickchart-complete:disabled,\n",
              "  .colab-df-quickchart-complete:disabled:hover {\n",
              "    background-color: var(--disabled-bg-color);\n",
              "    fill: var(--disabled-fill-color);\n",
              "    box-shadow: none;\n",
              "  }\n",
              "\n",
              "  .colab-df-spinner {\n",
              "    border: 2px solid var(--fill-color);\n",
              "    border-color: transparent;\n",
              "    border-bottom-color: var(--fill-color);\n",
              "    animation:\n",
              "      spin 1s steps(1) infinite;\n",
              "  }\n",
              "\n",
              "  @keyframes spin {\n",
              "    0% {\n",
              "      border-color: transparent;\n",
              "      border-bottom-color: var(--fill-color);\n",
              "      border-left-color: var(--fill-color);\n",
              "    }\n",
              "    20% {\n",
              "      border-color: transparent;\n",
              "      border-left-color: var(--fill-color);\n",
              "      border-top-color: var(--fill-color);\n",
              "    }\n",
              "    30% {\n",
              "      border-color: transparent;\n",
              "      border-left-color: var(--fill-color);\n",
              "      border-top-color: var(--fill-color);\n",
              "      border-right-color: var(--fill-color);\n",
              "    }\n",
              "    40% {\n",
              "      border-color: transparent;\n",
              "      border-right-color: var(--fill-color);\n",
              "      border-top-color: var(--fill-color);\n",
              "    }\n",
              "    60% {\n",
              "      border-color: transparent;\n",
              "      border-right-color: var(--fill-color);\n",
              "    }\n",
              "    80% {\n",
              "      border-color: transparent;\n",
              "      border-right-color: var(--fill-color);\n",
              "      border-bottom-color: var(--fill-color);\n",
              "    }\n",
              "    90% {\n",
              "      border-color: transparent;\n",
              "      border-bottom-color: var(--fill-color);\n",
              "    }\n",
              "  }\n",
              "</style>\n",
              "\n",
              "  <script>\n",
              "    async function quickchart(key) {\n",
              "      const quickchartButtonEl =\n",
              "        document.querySelector('#' + key + ' button');\n",
              "      quickchartButtonEl.disabled = true;  // To prevent multiple clicks.\n",
              "      quickchartButtonEl.classList.add('colab-df-spinner');\n",
              "      try {\n",
              "        const charts = await google.colab.kernel.invokeFunction(\n",
              "            'suggestCharts', [key], {});\n",
              "      } catch (error) {\n",
              "        console.error('Error during call to suggestCharts:', error);\n",
              "      }\n",
              "      quickchartButtonEl.classList.remove('colab-df-spinner');\n",
              "      quickchartButtonEl.classList.add('colab-df-quickchart-complete');\n",
              "    }\n",
              "    (() => {\n",
              "      let quickchartButtonEl =\n",
              "        document.querySelector('#df-9af6c601-233a-402e-a149-00a53efc61ad button');\n",
              "      quickchartButtonEl.style.display =\n",
              "        google.colab.kernel.accessAllowed ? 'block' : 'none';\n",
              "    })();\n",
              "  </script>\n",
              "</div>\n",
              "\n",
              "    </div>\n",
              "  </div>\n"
            ],
            "application/vnd.google.colaboratory.intrinsic+json": {
              "type": "dataframe",
              "summary": "{\n  \"name\": \"dataset\",\n  \"rows\": 8,\n  \"fields\": [\n    {\n      \"column\": \"Clicks\",\n      \"properties\": {\n        \"dtype\": \"number\",\n        \"std\": 269.7773323930591,\n        \"min\": 202.0,\n        \"max\": 1000.0,\n        \"num_unique_values\": 8,\n        \"samples\": [\n          589.0420841683367,\n          583.0,\n          499.0\n        ],\n        \"semantic_type\": \"\",\n        \"description\": \"\"\n      }\n    },\n    {\n      \"column\": \"Impressions\",\n      \"properties\": {\n        \"dtype\": \"number\",\n        \"std\": 5566.679627177953,\n        \"min\": 500.0,\n        \"max\": 18411.0,\n        \"num_unique_values\": 8,\n        \"samples\": [\n          7073.748,\n          6358.0,\n          500.0\n        ],\n        \"semantic_type\": \"\",\n        \"description\": \"\"\n      }\n    },\n    {\n      \"column\": \"CPC\",\n      \"properties\": {\n        \"dtype\": \"number\",\n        \"std\": 184.61125767964776,\n        \"min\": 0.44,\n        \"max\": 499.0,\n        \"num_unique_values\": 8,\n        \"samples\": [\n          1.3599599198396792,\n          0.82,\n          499.0\n        ],\n        \"semantic_type\": \"\",\n        \"description\": \"\"\n      }\n    },\n    {\n      \"column\": \"Conversions\",\n      \"properties\": {\n        \"dtype\": \"number\",\n        \"std\": 167.9917524976867,\n        \"min\": 8.0,\n        \"max\": 500.0,\n        \"num_unique_values\": 8,\n        \"samples\": [\n          28.224,\n          28.0,\n          500.0\n        ],\n        \"semantic_type\": \"\",\n        \"description\": \"\"\n      }\n    },\n    {\n      \"column\": \"Product Price\",\n      \"properties\": {\n        \"dtype\": \"number\",\n        \"std\": 164.40062877957166,\n        \"min\": 11.0,\n        \"max\": 500.0,\n        \"num_unique_values\": 8,\n        \"samples\": [\n          43.444,\n          43.0,\n          500.0\n        ],\n        \"semantic_type\": \"\",\n        \"description\": \"\"\n      }\n    },\n    {\n      \"column\": \"IQ\",\n      \"properties\": {\n        \"dtype\": \"number\",\n        \"std\": 174.14288205361913,\n        \"min\": 1.2600418769013266,\n        \"max\": 499.0,\n        \"num_unique_values\": 7,\n        \"samples\": [\n          499.0,\n          7.254509018036072,\n          8.0\n        ],\n        \"semantic_type\": \"\",\n        \"description\": \"\"\n      }\n    },\n    {\n      \"column\": \"Spend\",\n      \"properties\": {\n        \"dtype\": \"number\",\n        \"std\": 65604.54778417738,\n        \"min\": 112.5,\n        \"max\": 187000.0,\n        \"num_unique_values\": 8,\n        \"samples\": [\n          880.3533066132264,\n          448.4,\n          499.0\n        ],\n        \"semantic_type\": \"\",\n        \"description\": \"\"\n      }\n    },\n    {\n      \"column\": \"CTR\",\n      \"properties\": {\n        \"dtype\": \"number\",\n        \"std\": 173.53168988649134,\n        \"min\": 2.392648597296499,\n        \"max\": 499.0,\n        \"num_unique_values\": 8,\n        \"samples\": [\n          8.963157019403495,\n          8.853176112590338,\n          499.0\n        ],\n        \"semantic_type\": \"\",\n        \"description\": \"\"\n      }\n    },\n    {\n      \"column\": \"CPA\",\n      \"properties\": {\n        \"dtype\": \"number\",\n        \"std\": 1910.3107809337025,\n        \"min\": 8.184000000000001,\n        \"max\": 5500.0,\n        \"num_unique_values\": 8,\n        \"samples\": [\n          29.429202763612917,\n          17.277,\n          499.0\n        ],\n        \"semantic_type\": \"\",\n        \"description\": \"\"\n      }\n    },\n    {\n      \"column\": \"CVR\",\n      \"properties\": {\n        \"dtype\": \"number\",\n        \"std\": 174.95341546416685,\n        \"min\": 0.8806168018583089,\n        \"max\": 499.0,\n        \"num_unique_values\": 8,\n        \"samples\": [\n          4.856495646516792,\n          4.934210526315789,\n          499.0\n        ],\n        \"semantic_type\": \"\",\n        \"description\": \"\"\n      }\n    },\n    {\n      \"column\": \"Revenue\",\n      \"properties\": {\n        \"dtype\": \"number\",\n        \"std\": 1109.082754467158,\n        \"min\": 165.0,\n        \"max\": 3710.0,\n        \"num_unique_values\": 8,\n        \"samples\": [\n          1226.268,\n          1060.0,\n          500.0\n        ],\n        \"semantic_type\": \"\",\n        \"description\": \"\"\n      }\n    },\n    {\n      \"column\": \"ROAS\",\n      \"properties\": {\n        \"dtype\": \"number\",\n        \"std\": 175.4797933469695,\n        \"min\": 0.010181818181818183,\n        \"max\": 499.0,\n        \"num_unique_values\": 8,\n        \"samples\": [\n          2.667405880818542,\n          2.441326530612245,\n          499.0\n        ],\n        \"semantic_type\": \"\",\n        \"description\": \"\"\n      }\n    },\n    {\n      \"column\": \"ROAS >= 3\",\n      \"properties\": {\n        \"dtype\": \"number\",\n        \"std\": 176.6355912736841,\n        \"min\": 0.0,\n        \"max\": 500.0,\n        \"num_unique_values\": 5,\n        \"samples\": [\n          0.332,\n          1.0,\n          0.4714026313903684\n        ],\n        \"semantic_type\": \"\",\n        \"description\": \"\"\n      }\n    }\n  ]\n}"
            }
          },
          "metadata": {},
          "execution_count": 22
        }
      ]
    },
    {
      "cell_type": "code",
      "source": [
        "outliers = {}\n",
        "\n",
        "for column in dataset:\n",
        "    Q1 = dataset[column].quantile(0.25)\n",
        "    Q3 = dataset[column].quantile(0.75)\n",
        "    IQR = Q3 - Q1\n",
        "    limite_inferior = Q1 - 1.5 * IQR\n",
        "    limite_superior = Q3 + 1.5 * IQR\n",
        "    outliers[column] = dataset[(dataset[column] < limite_inferior) | (dataset[column] > limite_superior)]\n",
        "\n",
        "# Print outliers for each column\n",
        "for column, df_outliers in outliers.items():\n",
        "    print(f\"Outliers in column {column}:\")\n",
        "    print(df_outliers)"
      ],
      "metadata": {
        "colab": {
          "base_uri": "https://localhost:8080/"
        },
        "id": "zWpz5Yd7wud3",
        "outputId": "054fdf9f-e37e-4160-a363-755acc9e1bc2"
      },
      "execution_count": 23,
      "outputs": [
        {
          "output_type": "stream",
          "name": "stdout",
          "text": [
            "Outliers in column Clicks:\n",
            "Empty DataFrame\n",
            "Columns: [Clicks, Impressions, CPC, Conversions, Product Price, IQ, Spend, CTR, CPA, CVR, Revenue, ROAS, ROAS >= 3]\n",
            "Index: []\n",
            "Outliers in column Impressions:\n",
            "     Clicks  Impressions   CPC  Conversions  Product Price   IQ    Spend  \\\n",
            "40    984.0        18411  1.06           42             65  5.0  1043.04   \n",
            "45    974.0        18328  1.37           40             28  7.0  1334.38   \n",
            "58    980.0        16228  1.04           52             49  6.0  1019.20   \n",
            "68    988.0        16374  1.03           43             54  6.0  1017.64   \n",
            "75    957.0        18328  1.02           54             25  5.0   976.14   \n",
            "111   908.0        17668  1.48           53             41  7.0  1343.84   \n",
            "118   920.0        15901  0.91           28             23  6.0   837.20   \n",
            "166   868.0        15883  0.83           39             25  5.0   720.44   \n",
            "178   974.0        16172  1.32           29             55  7.0  1285.68   \n",
            "186   978.0        16209  0.78           55             66  6.0   762.84   \n",
            "207   995.0        18230  0.76           45             39  5.0   756.20   \n",
            "213   914.0        15883  0.75           52             65  6.0   685.50   \n",
            "242   929.0        15750  0.72           35             43  5.0   668.88   \n",
            "245   928.0        15901  1.31           28             36  7.0  1215.68   \n",
            "256   895.0        16135  1.31           27             20  7.0  1172.45   \n",
            "283   962.0        15901  0.68           45             31  5.0   654.16   \n",
            "303   955.0        15901  0.64           56             54  5.0   611.20   \n",
            "321   857.0        15999  0.63           41             51  5.0   539.91   \n",
            "326   896.0        16144  0.63           42             45  5.0   564.48   \n",
            "333   909.0        17677  1.45           29             26  7.0  1318.05   \n",
            "346   955.0        15994  0.61           31             45  5.0   582.55   \n",
            "350   936.0        15815  0.60           39             23  5.0   561.60   \n",
            "363   955.0        15994  0.59           32             34  5.0   563.45   \n",
            "366   869.0        15891  0.59           29             50  5.0   512.71   \n",
            "377   997.0        16388  0.58           42             20  5.0   578.26   \n",
            "392   881.0        16004  0.56           45             54  6.0   493.36   \n",
            "403   974.0        16172  0.51           50             66  5.0   496.74   \n",
            "419   991.0        16332  0.50           51             56  5.0   495.50   \n",
            "421   854.0        15999  0.50           43             64  5.0   427.00   \n",
            "\n",
            "          CTR        CPA       CVR  Revenue      ROAS  ROAS >= 3  \n",
            "40   5.344631  24.834286  4.268293     2730  2.617349          0  \n",
            "45   5.314273  33.359500  4.106776     1120  0.839341          0  \n",
            "58   6.038945  19.600000  5.306122     2548  2.500000          0  \n",
            "68   6.033956  23.666047  4.352227     2322  2.281750          0  \n",
            "75   5.221519  18.076667  5.642633     1350  1.382998          0  \n",
            "111  5.139235  25.355472  5.837004     2173  1.617008          0  \n",
            "118  5.785800  29.900000  3.043478      644  0.769231          0  \n",
            "166  5.464963  18.472821  4.493088      975  1.353340          0  \n",
            "178  6.022755  44.333793  2.977413     1595  1.240589          0  \n",
            "186  6.033685  13.869818  5.623722     3630  4.758534          1  \n",
            "207  5.458036  16.804444  4.522613     1755  2.320815          0  \n",
            "213  5.754580  13.182692  5.689278     3380  4.930708          1  \n",
            "242  5.898413  19.110857  3.767492     1505  2.250030          0  \n",
            "245  5.836111  43.417143  3.017241     1008  0.829166          0  \n",
            "256  5.546948  43.424074  3.016760      540  0.460574          0  \n",
            "283  6.049934  14.536889  4.677755     1395  2.132506          0  \n",
            "303  6.005912  10.914286  5.863874     3024  4.947644          1  \n",
            "321  5.356585  13.168537  4.784131     2091  3.872868          1  \n",
            "326  5.550050  13.440000  4.687500     1890  3.348214          1  \n",
            "333  5.142275  45.450000  3.190319      754  0.572057          0  \n",
            "346  5.970989  18.791935  3.246073     1395  2.394644          0  \n",
            "350  5.918432  14.400000  4.166667      897  1.597222          0  \n",
            "363  5.970989  17.607812  3.350785     1088  1.930961          0  \n",
            "366  5.468504  17.679655  3.337169     1450  2.828109          0  \n",
            "377  6.083720  13.768095  4.212638      840  1.452634          0  \n",
            "392  5.504874  10.963556  5.107832     2430  4.925409          1  \n",
            "403  6.022755   9.934800  5.133470     3300  6.643314          1  \n",
            "419  6.067842   9.715686  5.146317     2856  5.763875          1  \n",
            "421  5.337834   9.930233  5.035129     2752  6.444965          1  \n",
            "Outliers in column CPC:\n",
            "     Clicks  Impressions    CPC  Conversions  Product Price   IQ     Spend  \\\n",
            "266   748.0        10241  250.0           34             56  6.0  187000.0   \n",
            "\n",
            "          CTR     CPA       CVR  Revenue      ROAS  ROAS >= 3  \n",
            "266  7.303974  5500.0  4.545455     1904  0.010182          0  \n",
            "Outliers in column Conversions:\n",
            "Empty DataFrame\n",
            "Columns: [Clicks, Impressions, CPC, Conversions, Product Price, IQ, Spend, CTR, CPA, CVR, Revenue, ROAS, ROAS >= 3]\n",
            "Index: []\n",
            "Outliers in column Product Price:\n",
            "Empty DataFrame\n",
            "Columns: [Clicks, Impressions, CPC, Conversions, Product Price, IQ, Spend, CTR, CPA, CVR, Revenue, ROAS, ROAS >= 3]\n",
            "Index: []\n",
            "Outliers in column IQ:\n",
            "     Clicks  Impressions   CPC  Conversions  Product Price    IQ    Spend  \\\n",
            "6     718.0        11253  1.12           33             26   5.0   804.16   \n",
            "25    275.0         5277  1.10           16             30   5.0   302.50   \n",
            "36    701.0        11160  1.08           41             67   5.0   757.08   \n",
            "40    984.0        18411  1.06           42             65   5.0  1043.04   \n",
            "42    988.0        15380  1.06           58             48   5.0  1047.28   \n",
            "..      ...          ...   ...          ...            ...   ...      ...   \n",
            "469   456.0         8965  1.15           23             28   5.0   524.40   \n",
            "475   997.0        15414  1.14           47             58   5.0  1136.58   \n",
            "488   510.0         9856  1.13           26             67   5.0   576.30   \n",
            "492   948.0         7777  1.13           57             44  10.0  1071.24   \n",
            "496   328.0         6169  1.13           14             33   5.0   370.64   \n",
            "\n",
            "           CTR        CPA       CVR  Revenue      ROAS  ROAS >= 3  \n",
            "6     6.380521  24.368485  4.596100      858  1.066952          0  \n",
            "25    5.211294  18.906250  5.818182      480  1.586777          0  \n",
            "36    6.281362  18.465366  5.848787     2747  3.628414          1  \n",
            "40    5.344631  24.834286  4.268293     2730  2.617349          0  \n",
            "42    6.423927  18.056552  5.870445     2784  2.658315          0  \n",
            "..         ...        ...       ...      ...       ...        ...  \n",
            "469   5.086447  22.800000  5.043860      644  1.228070          0  \n",
            "475   6.468146  24.182553  4.714142     2726  2.398423          0  \n",
            "488   5.174513  22.165385  5.098039     1742  3.022731          1  \n",
            "492  12.189790  18.793684  6.012658     2508  2.341212          0  \n",
            "496   5.316907  26.474286  4.268293      462  1.246493          0  \n",
            "\n",
            "[77 rows x 13 columns]\n",
            "Outliers in column Spend:\n",
            "     Clicks  Impressions     CPC  Conversions  Product Price   IQ      Spend  \\\n",
            "34    891.0        10170    1.38           53             46  9.0    1229.58   \n",
            "45    974.0        18328    1.37           40             28  7.0    1334.38   \n",
            "56    899.0         6911    1.37           29             40  9.0    1231.63   \n",
            "100   972.0         7732    1.32           29             36  9.0    1283.04   \n",
            "111   908.0        17668    1.48           53             41  7.0    1343.84   \n",
            "167   946.0        15649    1.32           28             36  6.0    1248.72   \n",
            "178   974.0        16172    1.32           29             55  7.0    1285.68   \n",
            "245   928.0        15901    1.31           28             36  7.0    1215.68   \n",
            "256   895.0        16135    1.31           27             20  7.0    1172.45   \n",
            "266   748.0        10241  250.00           34             56  6.0  187000.00   \n",
            "333   909.0        17677    1.45           29             26  7.0    1318.05   \n",
            "478   931.0        10516    1.41           54             40  7.0    1312.71   \n",
            "\n",
            "           CTR          CPA       CVR  Revenue      ROAS  ROAS >= 3  \n",
            "34    8.761062    23.199623  5.948373     2438  1.982791          0  \n",
            "45    5.314273    33.359500  4.106776     1120  0.839341          0  \n",
            "56   13.008248    42.470000  3.225806     1160  0.941841          0  \n",
            "100  12.571133    44.242759  2.983539     1044  0.813692          0  \n",
            "111   5.139235    25.355472  5.837004     2173  1.617008          0  \n",
            "167   6.045115    44.597143  2.959831     1008  0.807227          0  \n",
            "178   6.022755    44.333793  2.977413     1595  1.240589          0  \n",
            "245   5.836111    43.417143  3.017241     1008  0.829166          0  \n",
            "256   5.546948    43.424074  3.016760      540  0.460574          0  \n",
            "266   7.303974  5500.000000  4.545455     1904  0.010182          0  \n",
            "333   5.142275    45.450000  3.190319      754  0.572057          0  \n",
            "478   8.853176    24.309444  5.800215     2160  1.645451          0  \n",
            "Outliers in column CTR:\n",
            "Empty DataFrame\n",
            "Columns: [Clicks, Impressions, CPC, Conversions, Product Price, IQ, Spend, CTR, CPA, CVR, Revenue, ROAS, ROAS >= 3]\n",
            "Index: []\n",
            "Outliers in column CPA:\n",
            "     Clicks  Impressions     CPC  Conversions  Product Price   IQ      Spend  \\\n",
            "0     348.0         4045    1.50           11             49  6.0     522.00   \n",
            "56    899.0         6911    1.37           29             40  9.0    1231.63   \n",
            "78    368.0         3267    1.35           11             50  8.0     496.80   \n",
            "100   972.0         7732    1.32           29             36  9.0    1283.04   \n",
            "112   680.0         6235    1.32           21             46  8.0     897.60   \n",
            "117   702.0         6698    0.91           18             31  8.0     638.82   \n",
            "145   604.0         8217    1.32           23             70  6.0     797.28   \n",
            "167   946.0        15649    1.32           28             36  6.0    1248.72   \n",
            "178   974.0        16172    1.32           29             55  7.0    1285.68   \n",
            "211   671.0         9317    1.32           21             66  6.0     885.72   \n",
            "223   365.0         3784    1.31           11             66  7.0     478.15   \n",
            "245   928.0        15901    1.31           28             36  7.0    1215.68   \n",
            "256   895.0        16135    1.31           27             20  7.0    1172.45   \n",
            "266   748.0        10241  250.00           34             56  6.0  187000.00   \n",
            "333   909.0        17677    1.45           29             26  7.0    1318.05   \n",
            "470   901.0        10270    1.15           26             59  8.0    1036.15   \n",
            "473   280.0         3728    1.15            8             64  6.0     322.00   \n",
            "474   680.0         9057    1.15           19             36  7.0     782.00   \n",
            "482   565.0         5027    1.14           16             30  9.0     644.10   \n",
            "483   547.0         5198    1.14           15             47  8.0     623.58   \n",
            "\n",
            "           CTR          CPA       CVR  Revenue      ROAS  ROAS >= 3  \n",
            "0     8.603214    47.454545  3.160920      539  1.032567          0  \n",
            "56   13.008248    42.470000  3.225806     1160  0.941841          0  \n",
            "78   11.264157    45.163636  2.989130      550  1.107085          0  \n",
            "100  12.571133    44.242759  2.983539     1044  0.813692          0  \n",
            "112  10.906175    42.742857  3.088235      966  1.076203          0  \n",
            "117  10.480741    35.490000  2.564103      558  0.873485          0  \n",
            "145   7.350615    34.664348  3.807947     1610  2.019366          0  \n",
            "167   6.045115    44.597143  2.959831     1008  0.807227          0  \n",
            "178   6.022755    44.333793  2.977413     1595  1.240589          0  \n",
            "211   7.201889    42.177143  3.129657     1386  1.564829          0  \n",
            "223   9.645877    43.468182  3.013699      726  1.518352          0  \n",
            "245   5.836111    43.417143  3.017241     1008  0.829166          0  \n",
            "256   5.546948    43.424074  3.016760      540  0.460574          0  \n",
            "266   7.303974  5500.000000  4.545455     1904  0.010182          0  \n",
            "333   5.142275    45.450000  3.190319      754  0.572057          0  \n",
            "470   8.773126    39.851923  2.885683     1534  1.480481          0  \n",
            "473   7.510730    40.250000  2.857143      512  1.590062          0  \n",
            "474   7.508005    41.157895  2.794118      684  0.874680          0  \n",
            "482  11.239308    40.256250  2.831858      480  0.745226          0  \n",
            "483  10.523278    41.572000  2.742230      705  1.130569          0  \n",
            "Outliers in column CVR:\n",
            "Empty DataFrame\n",
            "Columns: [Clicks, Impressions, CPC, Conversions, Product Price, IQ, Spend, CTR, CPA, CVR, Revenue, ROAS, ROAS >= 3]\n",
            "Index: []\n",
            "Outliers in column Revenue:\n",
            "     Clicks  Impressions   CPC  Conversions  Product Price    IQ    Spend  \\\n",
            "47    909.0         9251  1.04           55             66   8.0   945.36   \n",
            "98    852.0         7985  0.96           51             65  10.0   817.92   \n",
            "186   978.0        16209  0.78           55             66   6.0   762.84   \n",
            "213   914.0        15883  0.75           52             65   6.0   685.50   \n",
            "403   974.0        16172  0.51           50             66   5.0   496.74   \n",
            "481   962.0        11000  1.14           53             70   7.0  1096.68   \n",
            "\n",
            "           CTR        CPA       CVR  Revenue      ROAS  ROAS >= 3  \n",
            "47    9.825965  17.188364  6.050605     3630  3.839807          1  \n",
            "98   10.670006  16.037647  5.985915     3315  4.052964          1  \n",
            "186   6.033685  13.869818  5.623722     3630  4.758534          1  \n",
            "213   5.754580  13.182692  5.689278     3380  4.930708          1  \n",
            "403   6.022755   9.934800  5.133470     3300  6.643314          1  \n",
            "481   8.745455  20.692075  5.509356     3710  3.382938          1  \n",
            "Outliers in column ROAS:\n",
            "     Clicks  Impressions   CPC  Conversions  Product Price    IQ   Spend  \\\n",
            "291   605.0         4045  0.65           35             70  10.0  393.25   \n",
            "299   464.0         4848  0.64           27             68   7.0  296.96   \n",
            "357   275.0         2785  0.59           16             63   7.0  162.25   \n",
            "399   413.0         5412  0.51           20             69   6.0  210.63   \n",
            "403   974.0        16172  0.51           50             66   5.0  496.74   \n",
            "412   369.0         4195  0.50           19             65   7.0  184.50   \n",
            "414   466.0         6206  0.50           25             57   7.0  233.00   \n",
            "421   854.0        15999  0.50           43             64   5.0  427.00   \n",
            "424   621.0         6893  0.49           30             65   7.0  304.29   \n",
            "435   291.0         3132  0.45           15             65   8.0  130.95   \n",
            "442   258.0         3096  0.44           13             58  10.0  113.52   \n",
            "446   377.0         5856  0.44           19             65   8.0  165.88   \n",
            "\n",
            "           CTR        CPA       CVR  Revenue      ROAS  ROAS >= 3  \n",
            "291  14.956737  11.235714  5.785124     2450  6.230134          1  \n",
            "299   9.570957  10.998519  5.818966     1836  6.182651          1  \n",
            "357   9.874327  10.140625  5.818182     1008  6.212635          1  \n",
            "399   7.631190  10.531500  4.842615     1380  6.551773          1  \n",
            "403   6.022755   9.934800  5.133470     3300  6.643314          1  \n",
            "412   8.796186   9.710526  5.149051     1235  6.693767          1  \n",
            "414   7.508862   9.320000  5.364807     1425  6.115880          1  \n",
            "421   5.337834   9.930233  5.035129     2752  6.444965          1  \n",
            "424   9.009140  10.143000  4.830918     1950  6.408360          1  \n",
            "435   9.291188   8.730000  5.154639      975  7.445590          1  \n",
            "442   8.333333   8.732308  5.038760      754  6.642001          1  \n",
            "446   6.437842   8.730526  5.039788     1235  7.445141          1  \n",
            "Outliers in column ROAS >= 3:\n",
            "Empty DataFrame\n",
            "Columns: [Clicks, Impressions, CPC, Conversions, Product Price, IQ, Spend, CTR, CPA, CVR, Revenue, ROAS, ROAS >= 3]\n",
            "Index: []\n"
          ]
        }
      ]
    },
    {
      "cell_type": "code",
      "source": [
        "dataset= dataset[(dataset['CPC'] >= limite_inferior) & (dataset['CPC'] <= limite_superior)]"
      ],
      "metadata": {
        "id": "51ZNBMn5v1at"
      },
      "execution_count": 24,
      "outputs": []
    },
    {
      "cell_type": "code",
      "source": [
        "dataset.describe()"
      ],
      "metadata": {
        "colab": {
          "base_uri": "https://localhost:8080/",
          "height": 300
        },
        "id": "5uUhnDE3v_JS",
        "outputId": "9af7cdef-f05b-4da4-8f5e-7f0e4e33ddc9"
      },
      "execution_count": 25,
      "outputs": [
        {
          "output_type": "execute_result",
          "data": {
            "text/plain": [
              "            Clicks   Impressions         CPC  Conversions  Product Price  \\\n",
              "count   498.000000    498.000000  498.000000   498.000000     498.000000   \n",
              "mean    588.722892   7071.160643    0.860683    28.253012      43.425703   \n",
              "std     233.942785   3659.364038    0.257242    11.936124      15.093921   \n",
              "min     202.000000   2004.000000    0.440000     8.000000      11.000000   \n",
              "25%     376.250000   4254.250000    0.640000    18.000000      30.000000   \n",
              "50%     582.500000   6358.000000    0.820000    28.000000      43.000000   \n",
              "75%     780.500000   8827.000000    1.095000    36.750000      56.000000   \n",
              "max    1000.000000  18411.000000    1.500000    58.000000      70.000000   \n",
              "\n",
              "               IQ        Spend         CTR         CPA         CVR  \\\n",
              "count  498.000000   498.000000  498.000000  498.000000  498.000000   \n",
              "mean     7.257028   506.619076    8.966489   18.444121    4.857120   \n",
              "std      1.260050   262.886565    2.393896    7.242104    0.881392   \n",
              "min      5.000000   112.500000    5.007481    8.184000    2.564103   \n",
              "25%      7.000000   305.672500    7.303704   13.443387    4.323773   \n",
              "50%      7.000000   447.950000    8.859212   17.274500    4.979067   \n",
              "75%      8.000000   646.505000   10.587258   21.916875    5.650601   \n",
              "max     10.000000  1343.840000   14.956737   47.454545    6.052270   \n",
              "\n",
              "           Revenue        ROAS   ROAS >= 3  \n",
              "count   498.000000  498.000000  498.000000  \n",
              "mean   1226.726908    2.672742    0.333333  \n",
              "std     694.035797    1.341141    0.471879  \n",
              "min     165.000000    0.460574    0.000000  \n",
              "25%     681.000000    1.662928    0.000000  \n",
              "50%    1060.000000    2.442592    0.000000  \n",
              "75%    1648.250000    3.382203    1.000000  \n",
              "max    3710.000000    7.445590    1.000000  "
            ],
            "text/html": [
              "\n",
              "  <div id=\"df-0a0d7cc5-9c41-48f9-8b82-d6c8b6ab7e71\" class=\"colab-df-container\">\n",
              "    <div>\n",
              "<style scoped>\n",
              "    .dataframe tbody tr th:only-of-type {\n",
              "        vertical-align: middle;\n",
              "    }\n",
              "\n",
              "    .dataframe tbody tr th {\n",
              "        vertical-align: top;\n",
              "    }\n",
              "\n",
              "    .dataframe thead th {\n",
              "        text-align: right;\n",
              "    }\n",
              "</style>\n",
              "<table border=\"1\" class=\"dataframe\">\n",
              "  <thead>\n",
              "    <tr style=\"text-align: right;\">\n",
              "      <th></th>\n",
              "      <th>Clicks</th>\n",
              "      <th>Impressions</th>\n",
              "      <th>CPC</th>\n",
              "      <th>Conversions</th>\n",
              "      <th>Product Price</th>\n",
              "      <th>IQ</th>\n",
              "      <th>Spend</th>\n",
              "      <th>CTR</th>\n",
              "      <th>CPA</th>\n",
              "      <th>CVR</th>\n",
              "      <th>Revenue</th>\n",
              "      <th>ROAS</th>\n",
              "      <th>ROAS &gt;= 3</th>\n",
              "    </tr>\n",
              "  </thead>\n",
              "  <tbody>\n",
              "    <tr>\n",
              "      <th>count</th>\n",
              "      <td>498.000000</td>\n",
              "      <td>498.000000</td>\n",
              "      <td>498.000000</td>\n",
              "      <td>498.000000</td>\n",
              "      <td>498.000000</td>\n",
              "      <td>498.000000</td>\n",
              "      <td>498.000000</td>\n",
              "      <td>498.000000</td>\n",
              "      <td>498.000000</td>\n",
              "      <td>498.000000</td>\n",
              "      <td>498.000000</td>\n",
              "      <td>498.000000</td>\n",
              "      <td>498.000000</td>\n",
              "    </tr>\n",
              "    <tr>\n",
              "      <th>mean</th>\n",
              "      <td>588.722892</td>\n",
              "      <td>7071.160643</td>\n",
              "      <td>0.860683</td>\n",
              "      <td>28.253012</td>\n",
              "      <td>43.425703</td>\n",
              "      <td>7.257028</td>\n",
              "      <td>506.619076</td>\n",
              "      <td>8.966489</td>\n",
              "      <td>18.444121</td>\n",
              "      <td>4.857120</td>\n",
              "      <td>1226.726908</td>\n",
              "      <td>2.672742</td>\n",
              "      <td>0.333333</td>\n",
              "    </tr>\n",
              "    <tr>\n",
              "      <th>std</th>\n",
              "      <td>233.942785</td>\n",
              "      <td>3659.364038</td>\n",
              "      <td>0.257242</td>\n",
              "      <td>11.936124</td>\n",
              "      <td>15.093921</td>\n",
              "      <td>1.260050</td>\n",
              "      <td>262.886565</td>\n",
              "      <td>2.393896</td>\n",
              "      <td>7.242104</td>\n",
              "      <td>0.881392</td>\n",
              "      <td>694.035797</td>\n",
              "      <td>1.341141</td>\n",
              "      <td>0.471879</td>\n",
              "    </tr>\n",
              "    <tr>\n",
              "      <th>min</th>\n",
              "      <td>202.000000</td>\n",
              "      <td>2004.000000</td>\n",
              "      <td>0.440000</td>\n",
              "      <td>8.000000</td>\n",
              "      <td>11.000000</td>\n",
              "      <td>5.000000</td>\n",
              "      <td>112.500000</td>\n",
              "      <td>5.007481</td>\n",
              "      <td>8.184000</td>\n",
              "      <td>2.564103</td>\n",
              "      <td>165.000000</td>\n",
              "      <td>0.460574</td>\n",
              "      <td>0.000000</td>\n",
              "    </tr>\n",
              "    <tr>\n",
              "      <th>25%</th>\n",
              "      <td>376.250000</td>\n",
              "      <td>4254.250000</td>\n",
              "      <td>0.640000</td>\n",
              "      <td>18.000000</td>\n",
              "      <td>30.000000</td>\n",
              "      <td>7.000000</td>\n",
              "      <td>305.672500</td>\n",
              "      <td>7.303704</td>\n",
              "      <td>13.443387</td>\n",
              "      <td>4.323773</td>\n",
              "      <td>681.000000</td>\n",
              "      <td>1.662928</td>\n",
              "      <td>0.000000</td>\n",
              "    </tr>\n",
              "    <tr>\n",
              "      <th>50%</th>\n",
              "      <td>582.500000</td>\n",
              "      <td>6358.000000</td>\n",
              "      <td>0.820000</td>\n",
              "      <td>28.000000</td>\n",
              "      <td>43.000000</td>\n",
              "      <td>7.000000</td>\n",
              "      <td>447.950000</td>\n",
              "      <td>8.859212</td>\n",
              "      <td>17.274500</td>\n",
              "      <td>4.979067</td>\n",
              "      <td>1060.000000</td>\n",
              "      <td>2.442592</td>\n",
              "      <td>0.000000</td>\n",
              "    </tr>\n",
              "    <tr>\n",
              "      <th>75%</th>\n",
              "      <td>780.500000</td>\n",
              "      <td>8827.000000</td>\n",
              "      <td>1.095000</td>\n",
              "      <td>36.750000</td>\n",
              "      <td>56.000000</td>\n",
              "      <td>8.000000</td>\n",
              "      <td>646.505000</td>\n",
              "      <td>10.587258</td>\n",
              "      <td>21.916875</td>\n",
              "      <td>5.650601</td>\n",
              "      <td>1648.250000</td>\n",
              "      <td>3.382203</td>\n",
              "      <td>1.000000</td>\n",
              "    </tr>\n",
              "    <tr>\n",
              "      <th>max</th>\n",
              "      <td>1000.000000</td>\n",
              "      <td>18411.000000</td>\n",
              "      <td>1.500000</td>\n",
              "      <td>58.000000</td>\n",
              "      <td>70.000000</td>\n",
              "      <td>10.000000</td>\n",
              "      <td>1343.840000</td>\n",
              "      <td>14.956737</td>\n",
              "      <td>47.454545</td>\n",
              "      <td>6.052270</td>\n",
              "      <td>3710.000000</td>\n",
              "      <td>7.445590</td>\n",
              "      <td>1.000000</td>\n",
              "    </tr>\n",
              "  </tbody>\n",
              "</table>\n",
              "</div>\n",
              "    <div class=\"colab-df-buttons\">\n",
              "\n",
              "  <div class=\"colab-df-container\">\n",
              "    <button class=\"colab-df-convert\" onclick=\"convertToInteractive('df-0a0d7cc5-9c41-48f9-8b82-d6c8b6ab7e71')\"\n",
              "            title=\"Convert this dataframe to an interactive table.\"\n",
              "            style=\"display:none;\">\n",
              "\n",
              "  <svg xmlns=\"http://www.w3.org/2000/svg\" height=\"24px\" viewBox=\"0 -960 960 960\">\n",
              "    <path d=\"M120-120v-720h720v720H120Zm60-500h600v-160H180v160Zm220 220h160v-160H400v160Zm0 220h160v-160H400v160ZM180-400h160v-160H180v160Zm440 0h160v-160H620v160ZM180-180h160v-160H180v160Zm440 0h160v-160H620v160Z\"/>\n",
              "  </svg>\n",
              "    </button>\n",
              "\n",
              "  <style>\n",
              "    .colab-df-container {\n",
              "      display:flex;\n",
              "      gap: 12px;\n",
              "    }\n",
              "\n",
              "    .colab-df-convert {\n",
              "      background-color: #E8F0FE;\n",
              "      border: none;\n",
              "      border-radius: 50%;\n",
              "      cursor: pointer;\n",
              "      display: none;\n",
              "      fill: #1967D2;\n",
              "      height: 32px;\n",
              "      padding: 0 0 0 0;\n",
              "      width: 32px;\n",
              "    }\n",
              "\n",
              "    .colab-df-convert:hover {\n",
              "      background-color: #E2EBFA;\n",
              "      box-shadow: 0px 1px 2px rgba(60, 64, 67, 0.3), 0px 1px 3px 1px rgba(60, 64, 67, 0.15);\n",
              "      fill: #174EA6;\n",
              "    }\n",
              "\n",
              "    .colab-df-buttons div {\n",
              "      margin-bottom: 4px;\n",
              "    }\n",
              "\n",
              "    [theme=dark] .colab-df-convert {\n",
              "      background-color: #3B4455;\n",
              "      fill: #D2E3FC;\n",
              "    }\n",
              "\n",
              "    [theme=dark] .colab-df-convert:hover {\n",
              "      background-color: #434B5C;\n",
              "      box-shadow: 0px 1px 3px 1px rgba(0, 0, 0, 0.15);\n",
              "      filter: drop-shadow(0px 1px 2px rgba(0, 0, 0, 0.3));\n",
              "      fill: #FFFFFF;\n",
              "    }\n",
              "  </style>\n",
              "\n",
              "    <script>\n",
              "      const buttonEl =\n",
              "        document.querySelector('#df-0a0d7cc5-9c41-48f9-8b82-d6c8b6ab7e71 button.colab-df-convert');\n",
              "      buttonEl.style.display =\n",
              "        google.colab.kernel.accessAllowed ? 'block' : 'none';\n",
              "\n",
              "      async function convertToInteractive(key) {\n",
              "        const element = document.querySelector('#df-0a0d7cc5-9c41-48f9-8b82-d6c8b6ab7e71');\n",
              "        const dataTable =\n",
              "          await google.colab.kernel.invokeFunction('convertToInteractive',\n",
              "                                                    [key], {});\n",
              "        if (!dataTable) return;\n",
              "\n",
              "        const docLinkHtml = 'Like what you see? Visit the ' +\n",
              "          '<a target=\"_blank\" href=https://colab.research.google.com/notebooks/data_table.ipynb>data table notebook</a>'\n",
              "          + ' to learn more about interactive tables.';\n",
              "        element.innerHTML = '';\n",
              "        dataTable['output_type'] = 'display_data';\n",
              "        await google.colab.output.renderOutput(dataTable, element);\n",
              "        const docLink = document.createElement('div');\n",
              "        docLink.innerHTML = docLinkHtml;\n",
              "        element.appendChild(docLink);\n",
              "      }\n",
              "    </script>\n",
              "  </div>\n",
              "\n",
              "\n",
              "<div id=\"df-11354e3e-41d4-4a30-8293-7ade35c79f6c\">\n",
              "  <button class=\"colab-df-quickchart\" onclick=\"quickchart('df-11354e3e-41d4-4a30-8293-7ade35c79f6c')\"\n",
              "            title=\"Suggest charts\"\n",
              "            style=\"display:none;\">\n",
              "\n",
              "<svg xmlns=\"http://www.w3.org/2000/svg\" height=\"24px\"viewBox=\"0 0 24 24\"\n",
              "     width=\"24px\">\n",
              "    <g>\n",
              "        <path d=\"M19 3H5c-1.1 0-2 .9-2 2v14c0 1.1.9 2 2 2h14c1.1 0 2-.9 2-2V5c0-1.1-.9-2-2-2zM9 17H7v-7h2v7zm4 0h-2V7h2v10zm4 0h-2v-4h2v4z\"/>\n",
              "    </g>\n",
              "</svg>\n",
              "  </button>\n",
              "\n",
              "<style>\n",
              "  .colab-df-quickchart {\n",
              "      --bg-color: #E8F0FE;\n",
              "      --fill-color: #1967D2;\n",
              "      --hover-bg-color: #E2EBFA;\n",
              "      --hover-fill-color: #174EA6;\n",
              "      --disabled-fill-color: #AAA;\n",
              "      --disabled-bg-color: #DDD;\n",
              "  }\n",
              "\n",
              "  [theme=dark] .colab-df-quickchart {\n",
              "      --bg-color: #3B4455;\n",
              "      --fill-color: #D2E3FC;\n",
              "      --hover-bg-color: #434B5C;\n",
              "      --hover-fill-color: #FFFFFF;\n",
              "      --disabled-bg-color: #3B4455;\n",
              "      --disabled-fill-color: #666;\n",
              "  }\n",
              "\n",
              "  .colab-df-quickchart {\n",
              "    background-color: var(--bg-color);\n",
              "    border: none;\n",
              "    border-radius: 50%;\n",
              "    cursor: pointer;\n",
              "    display: none;\n",
              "    fill: var(--fill-color);\n",
              "    height: 32px;\n",
              "    padding: 0;\n",
              "    width: 32px;\n",
              "  }\n",
              "\n",
              "  .colab-df-quickchart:hover {\n",
              "    background-color: var(--hover-bg-color);\n",
              "    box-shadow: 0 1px 2px rgba(60, 64, 67, 0.3), 0 1px 3px 1px rgba(60, 64, 67, 0.15);\n",
              "    fill: var(--button-hover-fill-color);\n",
              "  }\n",
              "\n",
              "  .colab-df-quickchart-complete:disabled,\n",
              "  .colab-df-quickchart-complete:disabled:hover {\n",
              "    background-color: var(--disabled-bg-color);\n",
              "    fill: var(--disabled-fill-color);\n",
              "    box-shadow: none;\n",
              "  }\n",
              "\n",
              "  .colab-df-spinner {\n",
              "    border: 2px solid var(--fill-color);\n",
              "    border-color: transparent;\n",
              "    border-bottom-color: var(--fill-color);\n",
              "    animation:\n",
              "      spin 1s steps(1) infinite;\n",
              "  }\n",
              "\n",
              "  @keyframes spin {\n",
              "    0% {\n",
              "      border-color: transparent;\n",
              "      border-bottom-color: var(--fill-color);\n",
              "      border-left-color: var(--fill-color);\n",
              "    }\n",
              "    20% {\n",
              "      border-color: transparent;\n",
              "      border-left-color: var(--fill-color);\n",
              "      border-top-color: var(--fill-color);\n",
              "    }\n",
              "    30% {\n",
              "      border-color: transparent;\n",
              "      border-left-color: var(--fill-color);\n",
              "      border-top-color: var(--fill-color);\n",
              "      border-right-color: var(--fill-color);\n",
              "    }\n",
              "    40% {\n",
              "      border-color: transparent;\n",
              "      border-right-color: var(--fill-color);\n",
              "      border-top-color: var(--fill-color);\n",
              "    }\n",
              "    60% {\n",
              "      border-color: transparent;\n",
              "      border-right-color: var(--fill-color);\n",
              "    }\n",
              "    80% {\n",
              "      border-color: transparent;\n",
              "      border-right-color: var(--fill-color);\n",
              "      border-bottom-color: var(--fill-color);\n",
              "    }\n",
              "    90% {\n",
              "      border-color: transparent;\n",
              "      border-bottom-color: var(--fill-color);\n",
              "    }\n",
              "  }\n",
              "</style>\n",
              "\n",
              "  <script>\n",
              "    async function quickchart(key) {\n",
              "      const quickchartButtonEl =\n",
              "        document.querySelector('#' + key + ' button');\n",
              "      quickchartButtonEl.disabled = true;  // To prevent multiple clicks.\n",
              "      quickchartButtonEl.classList.add('colab-df-spinner');\n",
              "      try {\n",
              "        const charts = await google.colab.kernel.invokeFunction(\n",
              "            'suggestCharts', [key], {});\n",
              "      } catch (error) {\n",
              "        console.error('Error during call to suggestCharts:', error);\n",
              "      }\n",
              "      quickchartButtonEl.classList.remove('colab-df-spinner');\n",
              "      quickchartButtonEl.classList.add('colab-df-quickchart-complete');\n",
              "    }\n",
              "    (() => {\n",
              "      let quickchartButtonEl =\n",
              "        document.querySelector('#df-11354e3e-41d4-4a30-8293-7ade35c79f6c button');\n",
              "      quickchartButtonEl.style.display =\n",
              "        google.colab.kernel.accessAllowed ? 'block' : 'none';\n",
              "    })();\n",
              "  </script>\n",
              "</div>\n",
              "\n",
              "    </div>\n",
              "  </div>\n"
            ],
            "application/vnd.google.colaboratory.intrinsic+json": {
              "type": "dataframe",
              "summary": "{\n  \"name\": \"dataset\",\n  \"rows\": 8,\n  \"fields\": [\n    {\n      \"column\": \"Clicks\",\n      \"properties\": {\n        \"dtype\": \"number\",\n        \"std\": 269.8390466421348,\n        \"min\": 202.0,\n        \"max\": 1000.0,\n        \"num_unique_values\": 8,\n        \"samples\": [\n          588.722891566265,\n          582.5,\n          498.0\n        ],\n        \"semantic_type\": \"\",\n        \"description\": \"\"\n      }\n    },\n    {\n      \"column\": \"Impressions\",\n      \"properties\": {\n        \"dtype\": \"number\",\n        \"std\": 5566.2080119478105,\n        \"min\": 498.0,\n        \"max\": 18411.0,\n        \"num_unique_values\": 8,\n        \"samples\": [\n          7071.160642570281,\n          6358.0,\n          498.0\n        ],\n        \"semantic_type\": \"\",\n        \"description\": \"\"\n      }\n    },\n    {\n      \"column\": \"CPC\",\n      \"properties\": {\n        \"dtype\": \"number\",\n        \"std\": 175.786511893548,\n        \"min\": 0.2572418628430561,\n        \"max\": 498.0,\n        \"num_unique_values\": 8,\n        \"samples\": [\n          0.8606827309236947,\n          0.82,\n          498.0\n        ],\n        \"semantic_type\": \"\",\n        \"description\": \"\"\n      }\n    },\n    {\n      \"column\": \"Conversions\",\n      \"properties\": {\n        \"dtype\": \"number\",\n        \"std\": 167.26608148058347,\n        \"min\": 8.0,\n        \"max\": 498.0,\n        \"num_unique_values\": 8,\n        \"samples\": [\n          28.253012048192772,\n          28.0,\n          498.0\n        ],\n        \"semantic_type\": \"\",\n        \"description\": \"\"\n      }\n    },\n    {\n      \"column\": \"Product Price\",\n      \"properties\": {\n        \"dtype\": \"number\",\n        \"std\": 163.69814396076688,\n        \"min\": 11.0,\n        \"max\": 498.0,\n        \"num_unique_values\": 8,\n        \"samples\": [\n          43.42570281124498,\n          43.0,\n          498.0\n        ],\n        \"semantic_type\": \"\",\n        \"description\": \"\"\n      }\n    },\n    {\n      \"column\": \"IQ\",\n      \"properties\": {\n        \"dtype\": \"number\",\n        \"std\": 173.7892403156598,\n        \"min\": 1.2600504617713182,\n        \"max\": 498.0,\n        \"num_unique_values\": 7,\n        \"samples\": [\n          498.0,\n          7.257028112449799,\n          8.0\n        ],\n        \"semantic_type\": \"\",\n        \"description\": \"\"\n      }\n    },\n    {\n      \"column\": \"Spend\",\n      \"properties\": {\n        \"dtype\": \"number\",\n        \"std\": 373.88075178764353,\n        \"min\": 112.5,\n        \"max\": 1343.84,\n        \"num_unique_values\": 8,\n        \"samples\": [\n          506.61907630522086,\n          447.95,\n          498.0\n        ],\n        \"semantic_type\": \"\",\n        \"description\": \"\"\n      }\n    },\n    {\n      \"column\": \"CTR\",\n      \"properties\": {\n        \"dtype\": \"number\",\n        \"std\": 173.17638927656407,\n        \"min\": 2.393895533427792,\n        \"max\": 498.0,\n        \"num_unique_values\": 8,\n        \"samples\": [\n          8.96648871176923,\n          8.859212169770347,\n          498.0\n        ],\n        \"semantic_type\": \"\",\n        \"description\": \"\"\n      }\n    },\n    {\n      \"column\": \"CPA\",\n      \"properties\": {\n        \"dtype\": \"number\",\n        \"std\": 169.77018984668283,\n        \"min\": 7.2421038194876814,\n        \"max\": 498.0,\n        \"num_unique_values\": 8,\n        \"samples\": [\n          18.4441208414515,\n          17.2745,\n          498.0\n        ],\n        \"semantic_type\": \"\",\n        \"description\": \"\"\n      }\n    },\n    {\n      \"column\": \"CVR\",\n      \"properties\": {\n        \"dtype\": \"number\",\n        \"std\": 174.59759027173945,\n        \"min\": 0.8813916459988642,\n        \"max\": 498.0,\n        \"num_unique_values\": 8,\n        \"samples\": [\n          4.8571202270410145,\n          4.979066985645932,\n          498.0\n        ],\n        \"semantic_type\": \"\",\n        \"description\": \"\"\n      }\n    },\n    {\n      \"column\": \"Revenue\",\n      \"properties\": {\n        \"dtype\": \"number\",\n        \"std\": 1109.0453279364222,\n        \"min\": 165.0,\n        \"max\": 3710.0,\n        \"num_unique_values\": 8,\n        \"samples\": [\n          1226.7269076305222,\n          1060.0,\n          498.0\n        ],\n        \"semantic_type\": \"\",\n        \"description\": \"\"\n      }\n    },\n    {\n      \"column\": \"ROAS\",\n      \"properties\": {\n        \"dtype\": \"number\",\n        \"std\": 175.10197516713217,\n        \"min\": 0.4605740116849332,\n        \"max\": 498.0,\n        \"num_unique_values\": 8,\n        \"samples\": [\n          2.672741672108977,\n          2.44259193109212,\n          498.0\n        ],\n        \"semantic_type\": \"\",\n        \"description\": \"\"\n      }\n    },\n    {\n      \"column\": \"ROAS >= 3\",\n      \"properties\": {\n        \"dtype\": \"number\",\n        \"std\": 175.9283950326964,\n        \"min\": 0.0,\n        \"max\": 498.0,\n        \"num_unique_values\": 5,\n        \"samples\": [\n          0.3333333333333333,\n          1.0,\n          0.47187853249529466\n        ],\n        \"semantic_type\": \"\",\n        \"description\": \"\"\n      }\n    }\n  ]\n}"
            }
          },
          "metadata": {},
          "execution_count": 25
        }
      ]
    },
    {
      "cell_type": "code",
      "source": [
        "dataset['CPC'].describe()"
      ],
      "metadata": {
        "colab": {
          "base_uri": "https://localhost:8080/",
          "height": 336
        },
        "id": "y4nKxfQM1i9s",
        "outputId": "a9e17d63-de8d-4532-e77c-d001e60d6370"
      },
      "execution_count": 26,
      "outputs": [
        {
          "output_type": "execute_result",
          "data": {
            "text/plain": [
              "count    498.000000\n",
              "mean       0.860683\n",
              "std        0.257242\n",
              "min        0.440000\n",
              "25%        0.640000\n",
              "50%        0.820000\n",
              "75%        1.095000\n",
              "max        1.500000\n",
              "Name: CPC, dtype: float64"
            ],
            "text/html": [
              "<div>\n",
              "<style scoped>\n",
              "    .dataframe tbody tr th:only-of-type {\n",
              "        vertical-align: middle;\n",
              "    }\n",
              "\n",
              "    .dataframe tbody tr th {\n",
              "        vertical-align: top;\n",
              "    }\n",
              "\n",
              "    .dataframe thead th {\n",
              "        text-align: right;\n",
              "    }\n",
              "</style>\n",
              "<table border=\"1\" class=\"dataframe\">\n",
              "  <thead>\n",
              "    <tr style=\"text-align: right;\">\n",
              "      <th></th>\n",
              "      <th>CPC</th>\n",
              "    </tr>\n",
              "  </thead>\n",
              "  <tbody>\n",
              "    <tr>\n",
              "      <th>count</th>\n",
              "      <td>498.000000</td>\n",
              "    </tr>\n",
              "    <tr>\n",
              "      <th>mean</th>\n",
              "      <td>0.860683</td>\n",
              "    </tr>\n",
              "    <tr>\n",
              "      <th>std</th>\n",
              "      <td>0.257242</td>\n",
              "    </tr>\n",
              "    <tr>\n",
              "      <th>min</th>\n",
              "      <td>0.440000</td>\n",
              "    </tr>\n",
              "    <tr>\n",
              "      <th>25%</th>\n",
              "      <td>0.640000</td>\n",
              "    </tr>\n",
              "    <tr>\n",
              "      <th>50%</th>\n",
              "      <td>0.820000</td>\n",
              "    </tr>\n",
              "    <tr>\n",
              "      <th>75%</th>\n",
              "      <td>1.095000</td>\n",
              "    </tr>\n",
              "    <tr>\n",
              "      <th>max</th>\n",
              "      <td>1.500000</td>\n",
              "    </tr>\n",
              "  </tbody>\n",
              "</table>\n",
              "</div><br><label><b>dtype:</b> float64</label>"
            ]
          },
          "metadata": {},
          "execution_count": 26
        }
      ]
    },
    {
      "cell_type": "code",
      "source": [
        "dataset.isnull().sum()"
      ],
      "metadata": {
        "colab": {
          "base_uri": "https://localhost:8080/",
          "height": 493
        },
        "id": "OhZRYFgEy5ja",
        "outputId": "57868cb2-2dc4-4354-df46-1d8fe0bb3d50"
      },
      "execution_count": 27,
      "outputs": [
        {
          "output_type": "execute_result",
          "data": {
            "text/plain": [
              "Clicks           0\n",
              "Impressions      0\n",
              "CPC              0\n",
              "Conversions      0\n",
              "Product Price    0\n",
              "IQ               0\n",
              "Spend            0\n",
              "CTR              0\n",
              "CPA              0\n",
              "CVR              0\n",
              "Revenue          0\n",
              "ROAS             0\n",
              "ROAS >= 3        0\n",
              "dtype: int64"
            ],
            "text/html": [
              "<div>\n",
              "<style scoped>\n",
              "    .dataframe tbody tr th:only-of-type {\n",
              "        vertical-align: middle;\n",
              "    }\n",
              "\n",
              "    .dataframe tbody tr th {\n",
              "        vertical-align: top;\n",
              "    }\n",
              "\n",
              "    .dataframe thead th {\n",
              "        text-align: right;\n",
              "    }\n",
              "</style>\n",
              "<table border=\"1\" class=\"dataframe\">\n",
              "  <thead>\n",
              "    <tr style=\"text-align: right;\">\n",
              "      <th></th>\n",
              "      <th>0</th>\n",
              "    </tr>\n",
              "  </thead>\n",
              "  <tbody>\n",
              "    <tr>\n",
              "      <th>Clicks</th>\n",
              "      <td>0</td>\n",
              "    </tr>\n",
              "    <tr>\n",
              "      <th>Impressions</th>\n",
              "      <td>0</td>\n",
              "    </tr>\n",
              "    <tr>\n",
              "      <th>CPC</th>\n",
              "      <td>0</td>\n",
              "    </tr>\n",
              "    <tr>\n",
              "      <th>Conversions</th>\n",
              "      <td>0</td>\n",
              "    </tr>\n",
              "    <tr>\n",
              "      <th>Product Price</th>\n",
              "      <td>0</td>\n",
              "    </tr>\n",
              "    <tr>\n",
              "      <th>IQ</th>\n",
              "      <td>0</td>\n",
              "    </tr>\n",
              "    <tr>\n",
              "      <th>Spend</th>\n",
              "      <td>0</td>\n",
              "    </tr>\n",
              "    <tr>\n",
              "      <th>CTR</th>\n",
              "      <td>0</td>\n",
              "    </tr>\n",
              "    <tr>\n",
              "      <th>CPA</th>\n",
              "      <td>0</td>\n",
              "    </tr>\n",
              "    <tr>\n",
              "      <th>CVR</th>\n",
              "      <td>0</td>\n",
              "    </tr>\n",
              "    <tr>\n",
              "      <th>Revenue</th>\n",
              "      <td>0</td>\n",
              "    </tr>\n",
              "    <tr>\n",
              "      <th>ROAS</th>\n",
              "      <td>0</td>\n",
              "    </tr>\n",
              "    <tr>\n",
              "      <th>ROAS &gt;= 3</th>\n",
              "      <td>0</td>\n",
              "    </tr>\n",
              "  </tbody>\n",
              "</table>\n",
              "</div><br><label><b>dtype:</b> int64</label>"
            ]
          },
          "metadata": {},
          "execution_count": 27
        }
      ]
    },
    {
      "cell_type": "code",
      "source": [
        "col_with_nulls = dataset.columns[dataset.isnull().any()].tolist()"
      ],
      "metadata": {
        "id": "k3UndQI2zWH_"
      },
      "execution_count": 28,
      "outputs": []
    },
    {
      "cell_type": "code",
      "source": [
        "for column in col_with_nulls:\n",
        "    mediana = dataset[column].median()\n",
        "    dataset[column].fillna(mediana, inplace=True)"
      ],
      "metadata": {
        "id": "5kGYObnrzZ5M"
      },
      "execution_count": 29,
      "outputs": []
    },
    {
      "cell_type": "code",
      "source": [
        "dataset.isnull().sum()"
      ],
      "metadata": {
        "colab": {
          "base_uri": "https://localhost:8080/",
          "height": 493
        },
        "id": "QddZdKjizbWl",
        "outputId": "7ef83cc7-9758-4eca-a11a-949354e3affa"
      },
      "execution_count": 30,
      "outputs": [
        {
          "output_type": "execute_result",
          "data": {
            "text/plain": [
              "Clicks           0\n",
              "Impressions      0\n",
              "CPC              0\n",
              "Conversions      0\n",
              "Product Price    0\n",
              "IQ               0\n",
              "Spend            0\n",
              "CTR              0\n",
              "CPA              0\n",
              "CVR              0\n",
              "Revenue          0\n",
              "ROAS             0\n",
              "ROAS >= 3        0\n",
              "dtype: int64"
            ],
            "text/html": [
              "<div>\n",
              "<style scoped>\n",
              "    .dataframe tbody tr th:only-of-type {\n",
              "        vertical-align: middle;\n",
              "    }\n",
              "\n",
              "    .dataframe tbody tr th {\n",
              "        vertical-align: top;\n",
              "    }\n",
              "\n",
              "    .dataframe thead th {\n",
              "        text-align: right;\n",
              "    }\n",
              "</style>\n",
              "<table border=\"1\" class=\"dataframe\">\n",
              "  <thead>\n",
              "    <tr style=\"text-align: right;\">\n",
              "      <th></th>\n",
              "      <th>0</th>\n",
              "    </tr>\n",
              "  </thead>\n",
              "  <tbody>\n",
              "    <tr>\n",
              "      <th>Clicks</th>\n",
              "      <td>0</td>\n",
              "    </tr>\n",
              "    <tr>\n",
              "      <th>Impressions</th>\n",
              "      <td>0</td>\n",
              "    </tr>\n",
              "    <tr>\n",
              "      <th>CPC</th>\n",
              "      <td>0</td>\n",
              "    </tr>\n",
              "    <tr>\n",
              "      <th>Conversions</th>\n",
              "      <td>0</td>\n",
              "    </tr>\n",
              "    <tr>\n",
              "      <th>Product Price</th>\n",
              "      <td>0</td>\n",
              "    </tr>\n",
              "    <tr>\n",
              "      <th>IQ</th>\n",
              "      <td>0</td>\n",
              "    </tr>\n",
              "    <tr>\n",
              "      <th>Spend</th>\n",
              "      <td>0</td>\n",
              "    </tr>\n",
              "    <tr>\n",
              "      <th>CTR</th>\n",
              "      <td>0</td>\n",
              "    </tr>\n",
              "    <tr>\n",
              "      <th>CPA</th>\n",
              "      <td>0</td>\n",
              "    </tr>\n",
              "    <tr>\n",
              "      <th>CVR</th>\n",
              "      <td>0</td>\n",
              "    </tr>\n",
              "    <tr>\n",
              "      <th>Revenue</th>\n",
              "      <td>0</td>\n",
              "    </tr>\n",
              "    <tr>\n",
              "      <th>ROAS</th>\n",
              "      <td>0</td>\n",
              "    </tr>\n",
              "    <tr>\n",
              "      <th>ROAS &gt;= 3</th>\n",
              "      <td>0</td>\n",
              "    </tr>\n",
              "  </tbody>\n",
              "</table>\n",
              "</div><br><label><b>dtype:</b> int64</label>"
            ]
          },
          "metadata": {},
          "execution_count": 30
        }
      ]
    },
    {
      "cell_type": "code",
      "source": [
        "dup = dataset.duplicated()\n",
        "num_duplicates = dup.sum()\n",
        "print(f\"Number of duplicated rows: {num_duplicates}\")"
      ],
      "metadata": {
        "colab": {
          "base_uri": "https://localhost:8080/"
        },
        "id": "XazQ07MIzl3m",
        "outputId": "617b7675-4dba-45b3-9b44-589ce206e5f5"
      },
      "execution_count": 31,
      "outputs": [
        {
          "output_type": "stream",
          "name": "stdout",
          "text": [
            "Number of duplicated rows: 0\n"
          ]
        }
      ]
    },
    {
      "cell_type": "code",
      "source": [
        "for column in dataset.columns:\n",
        "    plt.figure(figsize=(10, 5))\n",
        "    srn.boxplot(data=dataset[column])\n",
        "    plt.title(f'Boxplot of {column}')\n",
        "    plt.xlabel('')\n",
        "    plt.show()"
      ],
      "metadata": {
        "colab": {
          "base_uri": "https://localhost:8080/",
          "height": 1000
        },
        "id": "J--HMWGN1IUK",
        "outputId": "3aaa01d8-332f-40a4-8a6f-529897e5e21b"
      },
      "execution_count": 32,
      "outputs": [
        {
          "output_type": "display_data",
          "data": {
            "text/plain": [
              "<Figure size 1000x500 with 1 Axes>"
            ],
            "image/png": "[encoded data removed]"
          },
          "metadata": {}
        },
        {
          "output_type": "display_data",
          "data": {
            "text/plain": [
              "<Figure size 1000x500 with 1 Axes>"
            ],
            "image/png": "[encoded data removed]"
          },
          "metadata": {}
        },
        {
          "output_type": "display_data",
          "data": {
            "text/plain": [
              "<Figure size 1000x500 with 1 Axes>"
            ],
            "image/png": "[encoded data removed]"
          },
          "metadata": {}
        },
        {
          "output_type": "display_data",
          "data": {
            "text/plain": [
              "<Figure size 1000x500 with 1 Axes>"
            ],
            "image/png": "[encoded data removed]"
          },
          "metadata": {}
        },
        {
          "output_type": "display_data",
          "data": {
            "text/plain": [
              "<Figure size 1000x500 with 1 Axes>"
            ],
            "image/png": "[encoded data removed]"
          },
          "metadata": {}
        },
        {
          "output_type": "display_data",
          "data": {
            "text/plain": [
              "<Figure size 1000x500 with 1 Axes>"
            ],
            "image/png": "[encoded data removed]"
          },
          "metadata": {}
        },
        {
          "output_type": "display_data",
          "data": {
            "text/plain": [
              "<Figure size 1000x500 with 1 Axes>"
            ],
            "image/png": "[encoded data removed]"
          },
          "metadata": {}
        },
        {
          "output_type": "display_data",
          "data": {
            "text/plain": [
              "<Figure size 1000x500 with 1 Axes>"
            ],
            "image/png": "[encoded data removed]"
          },
          "metadata": {}
        },
        {
          "output_type": "display_data",
          "data": {
            "text/plain": [
              "<Figure size 1000x500 with 1 Axes>"
            ],
            "image/png": "[encoded data removed]"
          },
          "metadata": {}
        },
        {
          "output_type": "display_data",
          "data": {
            "text/plain": [
              "<Figure size 1000x500 with 1 Axes>"
            ],
            "image/png": "[encoded data removed]"
          },
          "metadata": {}
        },
        {
          "output_type": "display_data",
          "data": {
            "text/plain": [
              "<Figure size 1000x500 with 1 Axes>"
            ],
            "image/png": "[encoded data removed]"
          },
          "metadata": {}
        },
        {
          "output_type": "display_data",
          "data": {
            "text/plain": [
              "<Figure size 1000x500 with 1 Axes>"
            ],
            "image/png": "[encoded data removed]"
          },
          "metadata": {}
        },
        {
          "output_type": "display_data",
          "data": {
            "text/plain": [
              "<Figure size 1000x500 with 1 Axes>"
            ],
            "image/png": "[encoded data removed]"
          },
          "metadata": {}
        }
      ]
    },
    {
      "cell_type": "code",
      "source": [
        "import numpy as np\n",
        "import matplotlib.pyplot as plt\n",
        "from imblearn.over_sampling import SMOTE\n",
        "from sklearn.model_selection import train_test_split\n",
        "from sklearn.linear_model import LogisticRegression\n",
        "from sklearn.preprocessing import StandardScaler\n",
        "from sklearn.metrics import classification_report, roc_curve, roc_auc_score, accuracy_score, confusion_matrix\n",
        "import pickle\n"
      ],
      "metadata": {
        "id": "U7tvLKTB56Ua"
      },
      "execution_count": 33,
      "outputs": []
    },
    {
      "cell_type": "code",
      "source": [
        "class_distribution = dataset['ROAS >= 3'].value_counts()\n",
        "print(class_distribution)"
      ],
      "metadata": {
        "colab": {
          "base_uri": "https://localhost:8080/"
        },
        "id": "K1jW24MK89-y",
        "outputId": "84c98848-7e8c-4c80-d646-aceb3f0d15e6"
      },
      "execution_count": 34,
      "outputs": [
        {
          "output_type": "stream",
          "name": "stdout",
          "text": [
            "ROAS >= 3\n",
            "0    332\n",
            "1    166\n",
            "Name: count, dtype: int64\n"
          ]
        }
      ]
    },
    {
      "cell_type": "code",
      "source": [
        "X = dataset[[ 'CPC', 'Product Price', 'IQ', 'Spend', 'CTR', 'CVR']]\n",
        "y = dataset['ROAS >= 3']"
      ],
      "metadata": {
        "id": "mQnSrkef59ti"
      },
      "execution_count": 35,
      "outputs": []
    },
    {
      "cell_type": "code",
      "source": [
        "X_train, X_test, y_train, y_test = train_test_split(X, y, test_size=0.2, random_state=42)\n"
      ],
      "metadata": {
        "id": "gEZh80xs6M7d"
      },
      "execution_count": 36,
      "outputs": []
    },
    {
      "cell_type": "code",
      "source": [
        "scaler = StandardScaler()\n",
        "X_train_scaled = scaler.fit_transform(X_train)\n",
        "X_test_scaled = scaler.transform(X_test)"
      ],
      "metadata": {
        "id": "flrHvNnY6O-b"
      },
      "execution_count": 37,
      "outputs": []
    },
    {
      "cell_type": "code",
      "source": [
        "smote = SMOTE(random_state=42)\n",
        "X_train_smote, y_train_smote = smote.fit_resample(X_train_scaled, y_train)"
      ],
      "metadata": {
        "id": "K48DJ1i39T61"
      },
      "execution_count": 38,
      "outputs": []
    },
    {
      "cell_type": "code",
      "source": [
        "print(\"Class distribution in the training set after SMOTE:\")\n",
        "print(pd.Series(y_train_smote).value_counts())"
      ],
      "metadata": {
        "colab": {
          "base_uri": "https://localhost:8080/"
        },
        "id": "31RqVBH9-b_7",
        "outputId": "b35586f4-3b26-4e0c-fe84-cbbb0b0d6a11"
      },
      "execution_count": 39,
      "outputs": [
        {
          "output_type": "stream",
          "name": "stdout",
          "text": [
            "Class distribution in the training set after SMOTE:\n",
            "ROAS >= 3\n",
            "0    260\n",
            "1    260\n",
            "Name: count, dtype: int64\n"
          ]
        }
      ]
    },
    {
      "cell_type": "code",
      "source": [
        "log_reg = LogisticRegression()\n",
        "log_reg.fit(X_train_smote, y_train_smote)"
      ],
      "metadata": {
        "colab": {
          "base_uri": "https://localhost:8080/",
          "height": 75
        },
        "id": "-ZZmR0CA6Qai",
        "outputId": "be094c31-02d2-48a5-e8fd-45c4ee31ba44"
      },
      "execution_count": 40,
      "outputs": [
        {
          "output_type": "execute_result",
          "data": {
            "text/plain": [
              "LogisticRegression()"
            ],
            "text/html": [
              "<style>#sk-container-id-1 {color: black;}#sk-container-id-1 pre{padding: 0;}#sk-container-id-1 div.sk-toggleable {background-color: white;}#sk-container-id-1 label.sk-toggleable__label {cursor: pointer;display: block;width: 100%;margin-bottom: 0;padding: 0.3em;box-sizing: border-box;text-align: center;}#sk-container-id-1 label.sk-toggleable__label-arrow:before {content: \"▸\";float: left;margin-right: 0.25em;color: #696969;}#sk-container-id-1 label.sk-toggleable__label-arrow:hover:before {color: black;}#sk-container-id-1 div.sk-estimator:hover label.sk-toggleable__label-arrow:before {color: black;}#sk-container-id-1 div.sk-toggleable__content {max-height: 0;max-width: 0;overflow: hidden;text-align: left;background-color: #f0f8ff;}#sk-container-id-1 div.sk-toggleable__content pre {margin: 0.2em;color: black;border-radius: 0.25em;background-color: #f0f8ff;}#sk-container-id-1 input.sk-toggleable__control:checked~div.sk-toggleable__content {max-height: 200px;max-width: 100%;overflow: auto;}#sk-container-id-1 input.sk-toggleable__control:checked~label.sk-toggleable__label-arrow:before {content: \"▾\";}#sk-container-id-1 div.sk-estimator input.sk-toggleable__control:checked~label.sk-toggleable__label {background-color: #d4ebff;}#sk-container-id-1 div.sk-label input.sk-toggleable__control:checked~label.sk-toggleable__label {background-color: #d4ebff;}#sk-container-id-1 input.sk-hidden--visually {border: 0;clip: rect(1px 1px 1px 1px);clip: rect(1px, 1px, 1px, 1px);height: 1px;margin: -1px;overflow: hidden;padding: 0;position: absolute;width: 1px;}#sk-container-id-1 div.sk-estimator {font-family: monospace;background-color: #f0f8ff;border: 1px dotted black;border-radius: 0.25em;box-sizing: border-box;margin-bottom: 0.5em;}#sk-container-id-1 div.sk-estimator:hover {background-color: #d4ebff;}#sk-container-id-1 div.sk-parallel-item::after {content: \"\";width: 100%;border-bottom: 1px solid gray;flex-grow: 1;}#sk-container-id-1 div.sk-label:hover label.sk-toggleable__label {background-color: #d4ebff;}#sk-container-id-1 div.sk-serial::before {content: \"\";position: absolute;border-left: 1px solid gray;box-sizing: border-box;top: 0;bottom: 0;left: 50%;z-index: 0;}#sk-container-id-1 div.sk-serial {display: flex;flex-direction: column;align-items: center;background-color: white;padding-right: 0.2em;padding-left: 0.2em;position: relative;}#sk-container-id-1 div.sk-item {position: relative;z-index: 1;}#sk-container-id-1 div.sk-parallel {display: flex;align-items: stretch;justify-content: center;background-color: white;position: relative;}#sk-container-id-1 div.sk-item::before, #sk-container-id-1 div.sk-parallel-item::before {content: \"\";position: absolute;border-left: 1px solid gray;box-sizing: border-box;top: 0;bottom: 0;left: 50%;z-index: -1;}#sk-container-id-1 div.sk-parallel-item {display: flex;flex-direction: column;z-index: 1;position: relative;background-color: white;}#sk-container-id-1 div.sk-parallel-item:first-child::after {align-self: flex-end;width: 50%;}#sk-container-id-1 div.sk-parallel-item:last-child::after {align-self: flex-start;width: 50%;}#sk-container-id-1 div.sk-parallel-item:only-child::after {width: 0;}#sk-container-id-1 div.sk-dashed-wrapped {border: 1px dashed gray;margin: 0 0.4em 0.5em 0.4em;box-sizing: border-box;padding-bottom: 0.4em;background-color: white;}#sk-container-id-1 div.sk-label label {font-family: monospace;font-weight: bold;display: inline-block;line-height: 1.2em;}#sk-container-id-1 div.sk-label-container {text-align: center;}#sk-container-id-1 div.sk-container {/* jupyter's `normalize.less` sets `[hidden] { display: none; }` but bootstrap.min.css set `[hidden] { display: none !important; }` so we also need the `!important` here to be able to override the default hidden behavior on the sphinx rendered scikit-learn.org. See: https://github.com/scikit-learn/scikit-learn/issues/21755 */display: inline-block !important;position: relative;}#sk-container-id-1 div.sk-text-repr-fallback {display: none;}</style><div id=\"sk-container-id-1\" class=\"sk-top-container\"><div class=\"sk-text-repr-fallback\"><pre>LogisticRegression()</pre><b>In a Jupyter environment, please rerun this cell to show the HTML representation or trust the notebook. <br />On GitHub, the HTML representation is unable to render, please try loading this page with nbviewer.org.</b></div><div class=\"sk-container\" hidden><div class=\"sk-item\"><div class=\"sk-estimator sk-toggleable\"><input class=\"sk-toggleable__control sk-hidden--visually\" id=\"sk-estimator-id-1\" type=\"checkbox\" checked><label for=\"sk-estimator-id-1\" class=\"sk-toggleable__label sk-toggleable__label-arrow\">LogisticRegression</label><div class=\"sk-toggleable__content\"><pre>LogisticRegression()</pre></div></div></div></div></div>"
            ]
          },
          "metadata": {},
          "execution_count": 40
        }
      ]
    },
    {
      "cell_type": "code",
      "source": [
        "y_pred = log_reg.predict(X_test_scaled)\n",
        "y_pred_prob = log_reg.predict_proba(X_test_scaled)[:, 1]"
      ],
      "metadata": {
        "id": "LMymPMzi6TFR"
      },
      "execution_count": 41,
      "outputs": []
    },
    {
      "cell_type": "code",
      "source": [
        "accuracy = accuracy_score(y_test, y_pred)\n",
        "conf_matrix = confusion_matrix(y_test, y_pred)\n",
        "roc_auc = roc_auc_score(y_test, y_pred_prob)\n",
        "class_report = classification_report(y_test, y_pred)"
      ],
      "metadata": {
        "id": "_Z3ETVc86Uc5"
      },
      "execution_count": 42,
      "outputs": []
    },
    {
      "cell_type": "code",
      "source": [
        "print(f\"Model Accuracy: {accuracy * 100:.2f}%\")\n",
        "print(\"\\n--- Confusion Matrix ---\")\n",
        "print(\"Confusion Matrix:\\n\", conf_matrix)\n",
        "print(\"True Negatives (TN):\", conf_matrix[0, 0])\n",
        "print(\"False Positives (FP):\", conf_matrix[0, 1])\n",
        "print(\"False Negatives (FN):\", conf_matrix[1, 0])\n",
        "print(\"True Positives (TP):\", conf_matrix[1, 1])\n",
        "print(f\"ROC AUC Score: {roc_auc:.2f}\")\n",
        "print(\"\\n--- Classification Report ---\")\n",
        "print(class_report)"
      ],
      "metadata": {
        "colab": {
          "base_uri": "https://localhost:8080/"
        },
        "id": "Nq5zJtHo61XY",
        "outputId": "e5034c96-b374-4cd4-f901-77b115017dfd"
      },
      "execution_count": 43,
      "outputs": [
        {
          "output_type": "stream",
          "name": "stdout",
          "text": [
            "Model Accuracy: 99.00%\n",
            "\n",
            "--- Confusion Matrix ---\n",
            "Confusion Matrix:\n",
            " [[72  0]\n",
            " [ 1 27]]\n",
            "True Negatives (TN): 72\n",
            "False Positives (FP): 0\n",
            "False Negatives (FN): 1\n",
            "True Positives (TP): 27\n",
            "ROC AUC Score: 1.00\n",
            "\n",
            "--- Classification Report ---\n",
            "              precision    recall  f1-score   support\n",
            "\n",
            "           0       0.99      1.00      0.99        72\n",
            "           1       1.00      0.96      0.98        28\n",
            "\n",
            "    accuracy                           0.99       100\n",
            "   macro avg       0.99      0.98      0.99       100\n",
            "weighted avg       0.99      0.99      0.99       100\n",
            "\n"
          ]
        }
      ]
    },
    {
      "cell_type": "code",
      "source": [
        "fpr, tpr, _ = roc_curve(y_test, y_pred_prob)\n",
        "plt.figure(figsize=(10, 6))\n",
        "plt.plot(fpr, tpr, color='blue', label=f'ROC Curve (AUC = {roc_auc:.2f})')\n",
        "plt.plot([0, 1], [0, 1], color='red', linestyle='--')  # Diagonal dashed line (random classifier)\n",
        "plt.xlim([0.0, 1.0])\n",
        "plt.ylim([0.0, 1.05])\n",
        "plt.xlabel('False Positive Rate (FPR)')\n",
        "plt.ylabel('True Positive Rate (TPR)')\n",
        "plt.title('Receiver Operating Characteristic (ROC) Curve')\n",
        "plt.legend(loc=\"lower right\")\n",
        "plt.grid(True, linestyle='--', alpha=0.6)\n",
        "plt.show()"
      ],
      "metadata": {
        "colab": {
          "base_uri": "https://localhost:8080/",
          "height": 564
        },
        "id": "x8E0LgWy-Tbj",
        "outputId": "e53b7345-73fe-488b-ae6b-4a7863c941f4"
      },
      "execution_count": 44,
      "outputs": [
        {
          "output_type": "display_data",
          "data": {
            "text/plain": [
              "<Figure size 1000x600 with 1 Axes>"
            ],
            "image/png": "[encoded data removed]"
          },
          "metadata": {}
        }
      ]
    },
    {
      "cell_type": "code",
      "source": [
        "# Check the range of predicted probabilities\n",
        "min_prob = y_pred_prob.min()\n",
        "max_prob = y_pred_prob.max()\n",
        "print(\"Range of predicted probabilities:\")\n",
        "print(f\"Min: {min_prob:.10f}, Max: {max_prob:.10f}\")\n"
      ],
      "metadata": {
        "colab": {
          "base_uri": "https://localhost:8080/"
        },
        "id": "xzcIxFkH-fH-",
        "outputId": "80991b51-d6e9-4091-c41a-a7de20cb27e3"
      },
      "execution_count": 45,
      "outputs": [
        {
          "output_type": "stream",
          "name": "stdout",
          "text": [
            "Range of predicted probabilities:\n",
            "Min: 0.0000000001, Max: 0.9999936937\n"
          ]
        }
      ]
    },
    {
      "cell_type": "code",
      "source": [
        "print(\"\\nInterpretation:\")\n",
        "if min_prob < 0.01 and max_prob > 0.99:\n",
        "    print(\"The predicted probabilities span from near 0 to near 1, which indicates that the model is generating a wide range of confidence levels.\")\n",
        "    print(\"This suggests that the model is effectively distinguishing between classes and should produce a meaningful ROC curve.\")\n",
        "else:\n",
        "    print(\"The range of predicted probabilities is not as wide as expected.\")\n",
        "    print(\"This might indicate that the model is not distinguishing well between classes or may need further adjustment.\")\n"
      ],
      "metadata": {
        "colab": {
          "base_uri": "https://localhost:8080/"
        },
        "id": "D7EdtyXu_iOH",
        "outputId": "d2e2e182-6738-41b1-99c0-2c3e52bf3421"
      },
      "execution_count": 46,
      "outputs": [
        {
          "output_type": "stream",
          "name": "stdout",
          "text": [
            "\n",
            "Interpretation:\n",
            "The predicted probabilities span from near 0 to near 1, which indicates that the model is generating a wide range of confidence levels.\n",
            "This suggests that the model is effectively distinguishing between classes and should produce a meaningful ROC curve.\n"
          ]
        }
      ]
    },
    {
      "cell_type": "code",
      "source": [
        "from sklearn.metrics import classification_report, accuracy_score\n",
        "\n",
        "# Evaluate model on training and test sets\n",
        "y_train_pred = log_reg.predict(X_train_smote)\n",
        "y_train_pred_prob = log_reg.predict_proba(X_train_smote)[:, 1]\n",
        "\n",
        "print(\"Training Accuracy:\", accuracy_score(y_train_smote, y_train_pred))\n",
        "print(\"Training ROC AUC Score:\", roc_auc_score(y_train_smote, y_train_pred_prob))\n",
        "\n",
        "print(\"\\nTest Accuracy:\", accuracy_score(y_test, y_pred))\n",
        "print(\"Test ROC AUC Score:\", roc_auc_score(y_test, y_pred_prob))\n"
      ],
      "metadata": {
        "colab": {
          "base_uri": "https://localhost:8080/"
        },
        "id": "R2xXszNN-mAR",
        "outputId": "f9e5b4b6-f6e4-43d4-b89f-f39034e97330"
      },
      "execution_count": 47,
      "outputs": [
        {
          "output_type": "stream",
          "name": "stdout",
          "text": [
            "Training Accuracy: 0.9903846153846154\n",
            "Training ROC AUC Score: 0.9999704142011835\n",
            "\n",
            "Test Accuracy: 0.99\n",
            "Test ROC AUC Score: 0.9990079365079365\n"
          ]
        }
      ]
    },
    {
      "cell_type": "code",
      "source": [
        "print(\"\\n--- Additional Evaluation Metrics Explained ---\")\n",
        "print(\"1. **ROC AUC Score**: A measure of how well the model distinguishes between classes. Closer to 1 is better.\")\n",
        "print(\"2. **Cohen's Kappa**: Measures how well the predicted labels match the actual labels, adjusting for chance.\")\n",
        "print(\"3. **Log Loss**: Measures the uncertainty of predictions. Lower values are better.\")\n",
        "print(\"4. **Cross-Validation Accuracy**: Shows model accuracy across 5 different splits of the data.\")\n",
        "print(\"5. **ROC Curve**: Shows the trade-off between True Positive Rate (Recall) and False Positive Rate (FPR).\")\n",
        "print(\"6. **Precision-Recall Curve**: Shows the trade-off between Precision and Recall.\")"
      ],
      "metadata": {
        "colab": {
          "base_uri": "https://localhost:8080/"
        },
        "id": "zesk4KIg7X97",
        "outputId": "a478e47b-4e88-41c4-9760-63a3479c5bb0"
      },
      "execution_count": 48,
      "outputs": [
        {
          "output_type": "stream",
          "name": "stdout",
          "text": [
            "\n",
            "--- Additional Evaluation Metrics Explained ---\n",
            "1. **ROC AUC Score**: A measure of how well the model distinguishes between classes. Closer to 1 is better.\n",
            "2. **Cohen's Kappa**: Measures how well the predicted labels match the actual labels, adjusting for chance.\n",
            "3. **Log Loss**: Measures the uncertainty of predictions. Lower values are better.\n",
            "4. **Cross-Validation Accuracy**: Shows model accuracy across 5 different splits of the data.\n",
            "5. **ROC Curve**: Shows the trade-off between True Positive Rate (Recall) and False Positive Rate (FPR).\n",
            "6. **Precision-Recall Curve**: Shows the trade-off between Precision and Recall.\n"
          ]
        }
      ]
    },
    {
      "cell_type": "code",
      "source": [
        "new_data = pd.DataFrame({\n",
        "    'CPC': [0.75],\n",
        "    'Product Price': [40],\n",
        "    'IQ': [8],\n",
        "    'Spend': [337.5],\n",
        "    'CTR': [9.0],\n",
        "    'CVR': [4.0]\n",
        "})"
      ],
      "metadata": {
        "id": "yqVwAY8VAmhi"
      },
      "execution_count": 49,
      "outputs": []
    },
    {
      "cell_type": "code",
      "source": [
        "new_data_scaled = scaler.transform(new_data)"
      ],
      "metadata": {
        "id": "dvl45LJDA_Pn"
      },
      "execution_count": 50,
      "outputs": []
    },
    {
      "cell_type": "code",
      "source": [
        "predictions = log_reg.predict(new_data_scaled)\n",
        "predicted_probabilities = log_reg.predict_proba(new_data_scaled)[:, 1]"
      ],
      "metadata": {
        "id": "OwWkr1AFBCNa"
      },
      "execution_count": 51,
      "outputs": []
    },
    {
      "cell_type": "code",
      "source": [
        "predictions_labels = ['Yes' if prob > 0.5 else 'No' for prob in predicted_probabilities]\n"
      ],
      "metadata": {
        "id": "t2IcMSxeeCyy"
      },
      "execution_count": 52,
      "outputs": []
    },
    {
      "cell_type": "code",
      "source": [
        "results = new_data.copy()\n",
        "results['Predicted'] = predictions_labels\n",
        "results['Probability'] = predicted_probabilities"
      ],
      "metadata": {
        "id": "8iVoYeA_Bazr"
      },
      "execution_count": 53,
      "outputs": []
    },
    {
      "cell_type": "code",
      "source": [
        "print(\"\\nPrediction Results For input data:\")\n",
        "for i, row in results.iterrows():\n",
        "    print(f\"\\nCPC: {row['CPC']}, Product Price: {row['Product Price']}, IQ: {row['IQ']}, Spend: {row['Spend']}, CTR: {row['CTR']}, CVR: {row['CVR']}\")\n",
        "    print(f\"Predicted class: {row['Predicted']}\")\n",
        "    print(\"Test Accuracy:\", accuracy_score(y_test, y_pred))\n",
        "    print(f\"Predicted probability of 'ROAS 3 or Higher': {row['Probability']:.4f}\")\n",
        "    if row['Probability'] > 0.5:\n",
        "        print(\"Interpretation: The model is confident that this data point falls into 'ROAS 3 or Higher'.\")\n",
        "    else:\n",
        "        print(\"Interpretation: The model is confident that this data point falls into 'Less than ROAS 3'.\")"
      ],
      "metadata": {
        "colab": {
          "base_uri": "https://localhost:8080/"
        },
        "id": "FKAivdKVBDlN",
        "outputId": "306ce76a-5343-4e4c-dfff-15db1fd87c78"
      },
      "execution_count": 88,
      "outputs": [
        {
          "output_type": "stream",
          "name": "stdout",
          "text": [
            "\n",
            "Prediction Results For input data:\n",
            "\n",
            "CPC: 1.0, Product Price: 40.0, IQ: 8.0, Spend: 1000.0, CTR: 10.0, CVR: 3.0\n",
            "Predicted class: Less than ROAS 3\n",
            "Test Accuracy: 0.99\n",
            "Predicted probability of 'ROAS 3 or Higher': 0.0000\n",
            "Interpretation: The model is confident that this data point falls into 'Less than ROAS 3'.\n"
          ]
        }
      ]
    },
    {
      "cell_type": "code",
      "source": [
        "cpc = float(input(\"Enter CPC: \"))\n",
        "product_price = float(input(\"Enter Product Price: \"))\n",
        "iq = float(input(\"Enter IQ: \"))\n",
        "spend = float(input(\"Enter Spend: \"))\n",
        "ctr = float(input(\"Enter CTR: \"))\n",
        "cvr = float(input(\"Enter CVR: \"))\n"
      ],
      "metadata": {
        "colab": {
          "base_uri": "https://localhost:8080/"
        },
        "id": "AUmnAaD2C8Ue",
        "outputId": "7f54d0dc-53a0-4673-a2c4-f1d03943435c"
      },
      "execution_count": 75,
      "outputs": [
        {
          "name": "stdout",
          "output_type": "stream",
          "text": [
            "Enter CPC: 1\n",
            "Enter Product Price: 40\n",
            "Enter IQ: 8\n",
            "Enter Spend: 1000\n",
            "Enter CTR: 10\n",
            "Enter CVR: 3\n"
          ]
        }
      ]
    },
    {
      "cell_type": "code",
      "source": [
        "user_data = pd.DataFrame([[cpc, product_price, iq, spend, ctr, cvr]], columns=['CPC', 'Product Price', 'IQ', 'Spend', 'CTR', 'CVR'])\n"
      ],
      "metadata": {
        "id": "79jLwHjoC97K"
      },
      "execution_count": 76,
      "outputs": []
    },
    {
      "cell_type": "code",
      "source": [
        "user_data_scaled = scaler.transform(user_data)"
      ],
      "metadata": {
        "id": "yjoyKDIqC_fh"
      },
      "execution_count": 77,
      "outputs": []
    },
    {
      "cell_type": "code",
      "source": [
        "prob = log_reg.predict_proba(user_data_scaled)[0, 1]\n",
        "pred_class = 'ROAS 3 or Higher' if prob > 0.5 else 'Less than ROAS 3'"
      ],
      "metadata": {
        "id": "cFPAAWudDAyu"
      },
      "execution_count": 78,
      "outputs": []
    },
    {
      "cell_type": "code",
      "source": [
        "results = user_data.copy()\n",
        "results['Predicted'] = pred_class\n",
        "results['Probability'] = prob"
      ],
      "metadata": {
        "id": "Fr9WicR1Drlc"
      },
      "execution_count": 79,
      "outputs": []
    },
    {
      "cell_type": "code",
      "source": [
        "print(\"\\nPrediction Results For User data:\")\n",
        "for i, row in results.iterrows():\n",
        "    print(f\"\\nCPC: {row['CPC']}, Product Price: {row['Product Price']}, IQ: {row['IQ']}, Spend: {row['Spend']}, CTR: {row['CTR']}, CVR: {row['CVR']}\")\n",
        "    print(f\"Predicted class: {row['Predicted']}\")\n",
        "    print(\"Test Accuracy:\", accuracy_score(y_test, y_pred))\n",
        "    print(f\"Predicted probability of class 'Yes': {row['Probability']:.4f}\")\n",
        "\n",
        "    if row['Probability'] > 0.5:\n",
        "        print(\"Interpretation: The model is confident that this data point belongs to the positive class ('Yes').\")\n",
        "    else:\n",
        "        print(\"Interpretation: The model is confident that this data point belongs to the negative class ('No').\")"
      ],
      "metadata": {
        "colab": {
          "base_uri": "https://localhost:8080/"
        },
        "id": "V0YASSVfDCgv",
        "outputId": "eaff48be-162c-4ecf-ef96-bcbc05e72c12"
      },
      "execution_count": 89,
      "outputs": [
        {
          "output_type": "stream",
          "name": "stdout",
          "text": [
            "\n",
            "Prediction Results For User data:\n",
            "\n",
            "CPC: 1.0, Product Price: 40.0, IQ: 8.0, Spend: 1000.0, CTR: 10.0, CVR: 3.0\n",
            "Predicted class: Less than ROAS 3\n",
            "Test Accuracy: 0.99\n",
            "Predicted probability of class 'Yes': 0.0000\n",
            "Interpretation: The model is confident that this data point belongs to the negative class ('No').\n"
          ]
        }
      ]
    }
  ]
}